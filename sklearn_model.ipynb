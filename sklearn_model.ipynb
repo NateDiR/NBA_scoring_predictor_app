{
 "cells": [
  {
   "cell_type": "code",
   "execution_count": 1,
   "metadata": {},
   "outputs": [
    {
     "name": "stderr",
     "output_type": "stream",
     "text": [
      "/Users/nathanieldirenzo/opt/anaconda3/envs/engineering/lib/python3.8/site-packages/xgboost/compat.py:36: FutureWarning: pandas.Int64Index is deprecated and will be removed from pandas in a future version. Use pandas.Index with the appropriate dtype instead.\n",
      "  from pandas import MultiIndex, Int64Index\n"
     ]
    }
   ],
   "source": [
    "import pandas as pd\n",
    "import numpy as np\n",
    "import matplotlib.pyplot as plt\n",
    "import seaborn as sns\n",
    "from dask import dataframe as dd\n",
    "from dask.distributed import Client\n",
    "import xgboost as xgb\n",
    "from sklearn.model_selection import train_test_split\n",
    "from sklearn.metrics import r2_score\n",
    "from sklearn.metrics import mean_squared_error\n",
    "from sklearn.metrics import mean_absolute_error\n"
   ]
  },
  {
   "cell_type": "code",
   "execution_count": 2,
   "metadata": {},
   "outputs": [
    {
     "name": "stderr",
     "output_type": "stream",
     "text": [
      "2022-04-05 23:19:34,933 - distributed.diskutils - INFO - Found stale lock file and directory '/Users/nathanieldirenzo/Documents/GitHub/celestial_body_size_predictor/dask-worker-space/worker-qd2_u6t_', purging\n",
      "2022-04-05 23:19:34,933 - distributed.diskutils - INFO - Found stale lock file and directory '/Users/nathanieldirenzo/Documents/GitHub/celestial_body_size_predictor/dask-worker-space/worker-f5s20tdb', purging\n",
      "2022-04-05 23:19:34,934 - distributed.diskutils - INFO - Found stale lock file and directory '/Users/nathanieldirenzo/Documents/GitHub/celestial_body_size_predictor/dask-worker-space/worker-p39c06vo', purging\n",
      "2022-04-05 23:19:34,935 - distributed.diskutils - INFO - Found stale lock file and directory '/Users/nathanieldirenzo/Documents/GitHub/celestial_body_size_predictor/dask-worker-space/worker-kw5blbvc', purging\n"
     ]
    }
   ],
   "source": [
    "client = Client()"
   ]
  },
  {
   "cell_type": "code",
   "execution_count": null,
   "metadata": {},
   "outputs": [],
   "source": [
    "bucket_name=\"ndir-metis-bucket\"\n",
    "path=f\"gs://{bucket_name}/asteroid/processed_asteroid_data.csv\""
   ]
  },
  {
   "cell_type": "code",
   "execution_count": null,
   "metadata": {},
   "outputs": [],
   "source": [
    "df = dd.read_csv(path,\n",
    "                 storage_options={\"token\": \"secrets.json\"},\n",
    "                 blocksize='64MB',\n",
    "                 low_memory=False)"
   ]
  },
  {
   "cell_type": "code",
   "execution_count": null,
   "metadata": {},
   "outputs": [],
   "source": [
    "df.head()"
   ]
  },
  {
   "cell_type": "code",
   "execution_count": null,
   "metadata": {},
   "outputs": [],
   "source": [
    "df= df.persist()"
   ]
  },
  {
   "cell_type": "code",
   "execution_count": null,
   "metadata": {},
   "outputs": [],
   "source": [
    "df = df.compute()"
   ]
  },
  {
   "cell_type": "code",
   "execution_count": null,
   "metadata": {},
   "outputs": [],
   "source": [
    "df.drop(columns=['Unnamed: 0'], inplace=True)"
   ]
  },
  {
   "cell_type": "code",
   "execution_count": null,
   "metadata": {},
   "outputs": [],
   "source": [
    "df"
   ]
  },
  {
   "cell_type": "code",
   "execution_count": null,
   "metadata": {},
   "outputs": [],
   "source": [
    "df.dtypes"
   ]
  },
  {
   "cell_type": "code",
   "execution_count": null,
   "metadata": {},
   "outputs": [],
   "source": [
    "sns.displot(df.diameter)"
   ]
  },
  {
   "cell_type": "code",
   "execution_count": null,
   "metadata": {},
   "outputs": [],
   "source": [
    "df = df[df['diameter'] < np.quantile(df['diameter'], 0.99)]"
   ]
  },
  {
   "cell_type": "code",
   "execution_count": null,
   "metadata": {},
   "outputs": [],
   "source": [
    "df"
   ]
  },
  {
   "cell_type": "code",
   "execution_count": null,
   "metadata": {},
   "outputs": [],
   "source": [
    "sns.displot(df.diameter)"
   ]
  },
  {
   "cell_type": "code",
   "execution_count": null,
   "metadata": {},
   "outputs": [],
   "source": [
    "plt.figure(figsize=(10,10))\n",
    "sns.heatmap(df.corr(), annot=True, fmt='.2f', cmap='coolwarm');"
   ]
  },
  {
   "cell_type": "markdown",
   "metadata": {},
   "source": [
    "# Feature Info\n",
    "- a: semi-major axis (au)\n",
    "- e: eccentricity\n",
    "- i: inclination with respect to ecliptic plane\n",
    "- om: longitude of the ascending node\n",
    "- w: argument of perihelion\n",
    "- q: perihelion distance (au)\n",
    "- ad: aphelion distance (au)\n",
    "- per_y: orbital period (years)\n",
    "- data_arc: span of recorded data (days)\n",
    "- condition_code: orbital condition code\n",
    "- n_obs_used: number of observations used\n",
    "- H: absolute magnitude parameter\n",
    "- neo: near-earth object\n",
    "- pha: physically hazardous object\n",
    "- diameter: diameter (target variable)\n",
    "- extent: Object bi/tri axial ellipsoid dimensions(Km)\n",
    "- albedo: geometric albedo\n",
    "- rot_per: rotation period (hours)\n",
    "- GM: gravitational parameter. Product of mass and gravitational constant\n",
    "- BV: Color index B-V magnitude difference\n",
    "- UB: Color index U-B magnitude difference\n",
    "- IR: Color index I-R magnitude difference\n",
    "- specB: Spectral taxonomic type(SMASSII)\n",
    "- specT: Spectral taxonomic type (Tholen)\n",
    "- G: Magnitude slope parameter\n",
    "- moid: Earth minimum orbit intersection distance\n",
    "- class: asteroid orbit class\n",
    "- n: mean motion (degrees/day)\n",
    "- per: orbital period (days)\n",
    "- ma: mean ananomly (degrees)\n"
   ]
  },
  {
   "cell_type": "code",
   "execution_count": null,
   "metadata": {},
   "outputs": [],
   "source": [
    "df = df.drop(columns=['om', 'w', 'ma', 'condition_code'])"
   ]
  },
  {
   "cell_type": "code",
   "execution_count": null,
   "metadata": {},
   "outputs": [],
   "source": [
    "df.condition_code.value_counts()"
   ]
  },
  {
   "cell_type": "code",
   "execution_count": null,
   "metadata": {},
   "outputs": [],
   "source": []
  }
 ],
 "metadata": {
  "interpreter": {
   "hash": "5e7caf9a0330a0431ece04fbb5ae0c2702e926a952f28ce7bb1847c9f40f39fc"
  },
  "kernelspec": {
   "display_name": "Python 3.8.12 ('engineering')",
   "language": "python",
   "name": "python3"
  },
  "language_info": {
   "codemirror_mode": {
    "name": "ipython",
    "version": 3
   },
   "file_extension": ".py",
   "mimetype": "text/x-python",
   "name": "python",
   "nbconvert_exporter": "python",
   "pygments_lexer": "ipython3",
   "version": "3.8.12"
  },
  "orig_nbformat": 4
 },
 "nbformat": 4,
 "nbformat_minor": 2
}
