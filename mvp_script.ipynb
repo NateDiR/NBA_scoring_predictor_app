{
 "cells": [
  {
   "cell_type": "code",
   "execution_count": 1,
   "id": "d04a20f9",
   "metadata": {},
   "outputs": [],
   "source": [
    "%reset -fs"
   ]
  },
  {
   "cell_type": "code",
   "execution_count": 2,
   "metadata": {},
   "outputs": [],
   "source": [
    "import pandas as pd\n",
    "import numpy as np\n",
    "import time, os\n",
    "from bs4 import BeautifulSoup\n",
    "from selenium import webdriver\n",
    "from selenium.webdriver.common.action_chains import ActionChains\n",
    "from pymongo import MongoClient\n",
    "import pandas as pd\n",
    "import datetime\n",
    "from dotenv import load_dotenv"
   ]
  },
  {
   "cell_type": "code",
   "execution_count": 3,
   "metadata": {},
   "outputs": [
    {
     "data": {
      "text/plain": [
       "True"
      ]
     },
     "execution_count": 3,
     "metadata": {},
     "output_type": "execute_result"
    }
   ],
   "source": [
    "load_dotenv()"
   ]
  },
  {
   "cell_type": "code",
   "execution_count": 4,
   "metadata": {},
   "outputs": [],
   "source": [
    "mongo_pw = os.environ.get(\"MONGO_PW\")"
   ]
  },
  {
   "cell_type": "code",
   "execution_count": 5,
   "metadata": {},
   "outputs": [],
   "source": [
    "\n",
    "client = MongoClient('mongodb+srv://natedirenzo:' + mongo_pw + '@nba-db.grcwg.mongodb.net/myFirstDatabase?retryWrites=true&w=majority')\n"
   ]
  },
  {
   "cell_type": "code",
   "execution_count": 6,
   "metadata": {},
   "outputs": [
    {
     "data": {
      "text/plain": [
       "['nba-data', 'admin', 'local']"
      ]
     },
     "execution_count": 6,
     "metadata": {},
     "output_type": "execute_result"
    }
   ],
   "source": [
    "client.list_database_names()"
   ]
  },
  {
   "cell_type": "code",
   "execution_count": 8,
   "metadata": {},
   "outputs": [
    {
     "data": {
      "text/html": [
       "<div>\n",
       "<style scoped>\n",
       "    .dataframe tbody tr th:only-of-type {\n",
       "        vertical-align: middle;\n",
       "    }\n",
       "\n",
       "    .dataframe tbody tr th {\n",
       "        vertical-align: top;\n",
       "    }\n",
       "\n",
       "    .dataframe thead th {\n",
       "        text-align: right;\n",
       "    }\n",
       "</style>\n",
       "<table border=\"1\" class=\"dataframe\">\n",
       "  <thead>\n",
       "    <tr style=\"text-align: right;\">\n",
       "      <th></th>\n",
       "      <th>_id</th>\n",
       "      <th>Date</th>\n",
       "      <th>Name</th>\n",
       "      <th>Team</th>\n",
       "      <th>Position</th>\n",
       "      <th>Opp</th>\n",
       "      <th>Home/Away</th>\n",
       "      <th>Line</th>\n",
       "      <th>Moneyline</th>\n",
       "      <th>Projection</th>\n",
       "      <th>Diff</th>\n",
       "      <th>Pick</th>\n",
       "      <th>Result</th>\n",
       "      <th>over_under</th>\n",
       "      <th>seven_day_accuracy</th>\n",
       "      <th>successful_pick</th>\n",
       "    </tr>\n",
       "  </thead>\n",
       "  <tbody>\n",
       "    <tr>\n",
       "      <th>0</th>\n",
       "      <td>6246960a4fba57b3e39e9976</td>\n",
       "      <td>2021-10-21</td>\n",
       "      <td>Bogdan</td>\n",
       "      <td>ATL</td>\n",
       "      <td>G</td>\n",
       "      <td>DAL</td>\n",
       "      <td>vs.</td>\n",
       "      <td>15.5</td>\n",
       "      <td>-115</td>\n",
       "      <td>16.57</td>\n",
       "      <td>1.07</td>\n",
       "      <td>15.5</td>\n",
       "      <td>11.0</td>\n",
       "      <td>o</td>\n",
       "      <td>0.47</td>\n",
       "      <td>0.0</td>\n",
       "    </tr>\n",
       "    <tr>\n",
       "      <th>1</th>\n",
       "      <td>6246960a4fba57b3e39e9977</td>\n",
       "      <td>2021-10-23</td>\n",
       "      <td>Bogdan</td>\n",
       "      <td>ATL</td>\n",
       "      <td>G</td>\n",
       "      <td>CLE</td>\n",
       "      <td>@</td>\n",
       "      <td>14.5</td>\n",
       "      <td>-115</td>\n",
       "      <td>15.29</td>\n",
       "      <td>0.79</td>\n",
       "      <td>14.5</td>\n",
       "      <td>5.0</td>\n",
       "      <td>o</td>\n",
       "      <td>0.45</td>\n",
       "      <td>0.0</td>\n",
       "    </tr>\n",
       "    <tr>\n",
       "      <th>2</th>\n",
       "      <td>6246960a4fba57b3e39e9978</td>\n",
       "      <td>2021-10-25</td>\n",
       "      <td>Bogdan</td>\n",
       "      <td>ATL</td>\n",
       "      <td>G</td>\n",
       "      <td>DET</td>\n",
       "      <td>vs.</td>\n",
       "      <td>15.5</td>\n",
       "      <td>-115</td>\n",
       "      <td>12.85</td>\n",
       "      <td>-2.65</td>\n",
       "      <td>15.5</td>\n",
       "      <td>14.0</td>\n",
       "      <td>u</td>\n",
       "      <td>0.45</td>\n",
       "      <td>1.0</td>\n",
       "    </tr>\n",
       "    <tr>\n",
       "      <th>3</th>\n",
       "      <td>6246960a4fba57b3e39e9979</td>\n",
       "      <td>2021-10-27</td>\n",
       "      <td>Bogdan</td>\n",
       "      <td>ATL</td>\n",
       "      <td>G</td>\n",
       "      <td>NOR</td>\n",
       "      <td>@</td>\n",
       "      <td>12.5</td>\n",
       "      <td>-125</td>\n",
       "      <td>13.70</td>\n",
       "      <td>1.20</td>\n",
       "      <td>12.5</td>\n",
       "      <td>12.0</td>\n",
       "      <td>o</td>\n",
       "      <td>0.45</td>\n",
       "      <td>0.0</td>\n",
       "    </tr>\n",
       "    <tr>\n",
       "      <th>4</th>\n",
       "      <td>6246960a4fba57b3e39e997a</td>\n",
       "      <td>2021-10-28</td>\n",
       "      <td>Bogdan</td>\n",
       "      <td>ATL</td>\n",
       "      <td>G</td>\n",
       "      <td>WAS</td>\n",
       "      <td>@</td>\n",
       "      <td>12.5</td>\n",
       "      <td>-105</td>\n",
       "      <td>16.72</td>\n",
       "      <td>4.22</td>\n",
       "      <td>12.5</td>\n",
       "      <td>14.0</td>\n",
       "      <td>o</td>\n",
       "      <td>0.42</td>\n",
       "      <td>1.0</td>\n",
       "    </tr>\n",
       "    <tr>\n",
       "      <th>...</th>\n",
       "      <td>...</td>\n",
       "      <td>...</td>\n",
       "      <td>...</td>\n",
       "      <td>...</td>\n",
       "      <td>...</td>\n",
       "      <td>...</td>\n",
       "      <td>...</td>\n",
       "      <td>...</td>\n",
       "      <td>...</td>\n",
       "      <td>...</td>\n",
       "      <td>...</td>\n",
       "      <td>...</td>\n",
       "      <td>...</td>\n",
       "      <td>...</td>\n",
       "      <td>...</td>\n",
       "      <td>...</td>\n",
       "    </tr>\n",
       "    <tr>\n",
       "      <th>14507</th>\n",
       "      <td>6246960a4fba57b3e39ed221</td>\n",
       "      <td>2022-03-08</td>\n",
       "      <td>Ziaire Williams</td>\n",
       "      <td>MEM</td>\n",
       "      <td>G</td>\n",
       "      <td>NOR</td>\n",
       "      <td>vs.</td>\n",
       "      <td>6.5</td>\n",
       "      <td>-110</td>\n",
       "      <td>7.30</td>\n",
       "      <td>0.80</td>\n",
       "      <td>6.5</td>\n",
       "      <td>16.0</td>\n",
       "      <td>o</td>\n",
       "      <td>0.46</td>\n",
       "      <td>1.0</td>\n",
       "    </tr>\n",
       "    <tr>\n",
       "      <th>14508</th>\n",
       "      <td>6246960a4fba57b3e39ed222</td>\n",
       "      <td>2022-03-11</td>\n",
       "      <td>Ziaire Williams</td>\n",
       "      <td>MEM</td>\n",
       "      <td>G</td>\n",
       "      <td>NYK</td>\n",
       "      <td>vs.</td>\n",
       "      <td>7.5</td>\n",
       "      <td>-115</td>\n",
       "      <td>7.30</td>\n",
       "      <td>-0.20</td>\n",
       "      <td>7.5</td>\n",
       "      <td>13.0</td>\n",
       "      <td>u</td>\n",
       "      <td>0.50</td>\n",
       "      <td>0.0</td>\n",
       "    </tr>\n",
       "    <tr>\n",
       "      <th>14509</th>\n",
       "      <td>6246960a4fba57b3e39ed223</td>\n",
       "      <td>2022-03-15</td>\n",
       "      <td>Ziaire Williams</td>\n",
       "      <td>MEM</td>\n",
       "      <td>G</td>\n",
       "      <td>IND</td>\n",
       "      <td>@</td>\n",
       "      <td>8.5</td>\n",
       "      <td>-130</td>\n",
       "      <td>7.60</td>\n",
       "      <td>-0.90</td>\n",
       "      <td>8.5</td>\n",
       "      <td>11.0</td>\n",
       "      <td>u</td>\n",
       "      <td>0.46</td>\n",
       "      <td>0.0</td>\n",
       "    </tr>\n",
       "    <tr>\n",
       "      <th>14510</th>\n",
       "      <td>6246960a4fba57b3e39ed224</td>\n",
       "      <td>2022-03-23</td>\n",
       "      <td>Ziaire Williams</td>\n",
       "      <td>MEM</td>\n",
       "      <td>G</td>\n",
       "      <td>BKN</td>\n",
       "      <td>vs.</td>\n",
       "      <td>7.5</td>\n",
       "      <td>-105</td>\n",
       "      <td>6.20</td>\n",
       "      <td>-1.30</td>\n",
       "      <td>7.5</td>\n",
       "      <td>0.0</td>\n",
       "      <td>u</td>\n",
       "      <td>0.46</td>\n",
       "      <td>1.0</td>\n",
       "    </tr>\n",
       "    <tr>\n",
       "      <th>14511</th>\n",
       "      <td>6246960a4fba57b3e39ed225</td>\n",
       "      <td>2022-03-24</td>\n",
       "      <td>Ziaire Williams</td>\n",
       "      <td>MEM</td>\n",
       "      <td>G</td>\n",
       "      <td>IND</td>\n",
       "      <td>vs.</td>\n",
       "      <td>11.5</td>\n",
       "      <td>-105</td>\n",
       "      <td>8.80</td>\n",
       "      <td>-2.70</td>\n",
       "      <td>11.5</td>\n",
       "      <td>3.0</td>\n",
       "      <td>u</td>\n",
       "      <td>0.42</td>\n",
       "      <td>1.0</td>\n",
       "    </tr>\n",
       "  </tbody>\n",
       "</table>\n",
       "<p>14512 rows × 16 columns</p>\n",
       "</div>"
      ],
      "text/plain": [
       "                            _id        Date             Name Team Position  \\\n",
       "0      6246960a4fba57b3e39e9976  2021-10-21           Bogdan  ATL        G   \n",
       "1      6246960a4fba57b3e39e9977  2021-10-23           Bogdan  ATL        G   \n",
       "2      6246960a4fba57b3e39e9978  2021-10-25           Bogdan  ATL        G   \n",
       "3      6246960a4fba57b3e39e9979  2021-10-27           Bogdan  ATL        G   \n",
       "4      6246960a4fba57b3e39e997a  2021-10-28           Bogdan  ATL        G   \n",
       "...                         ...         ...              ...  ...      ...   \n",
       "14507  6246960a4fba57b3e39ed221  2022-03-08  Ziaire Williams  MEM        G   \n",
       "14508  6246960a4fba57b3e39ed222  2022-03-11  Ziaire Williams  MEM        G   \n",
       "14509  6246960a4fba57b3e39ed223  2022-03-15  Ziaire Williams  MEM        G   \n",
       "14510  6246960a4fba57b3e39ed224  2022-03-23  Ziaire Williams  MEM        G   \n",
       "14511  6246960a4fba57b3e39ed225  2022-03-24  Ziaire Williams  MEM        G   \n",
       "\n",
       "       Opp Home/Away  Line  Moneyline  Projection  Diff  Pick  Result  \\\n",
       "0      DAL       vs.  15.5       -115       16.57  1.07  15.5    11.0   \n",
       "1      CLE         @  14.5       -115       15.29  0.79  14.5     5.0   \n",
       "2      DET       vs.  15.5       -115       12.85 -2.65  15.5    14.0   \n",
       "3      NOR         @  12.5       -125       13.70  1.20  12.5    12.0   \n",
       "4      WAS         @  12.5       -105       16.72  4.22  12.5    14.0   \n",
       "...    ...       ...   ...        ...         ...   ...   ...     ...   \n",
       "14507  NOR       vs.   6.5       -110        7.30  0.80   6.5    16.0   \n",
       "14508  NYK       vs.   7.5       -115        7.30 -0.20   7.5    13.0   \n",
       "14509  IND         @   8.5       -130        7.60 -0.90   8.5    11.0   \n",
       "14510  BKN       vs.   7.5       -105        6.20 -1.30   7.5     0.0   \n",
       "14511  IND       vs.  11.5       -105        8.80 -2.70  11.5     3.0   \n",
       "\n",
       "      over_under  seven_day_accuracy  successful_pick  \n",
       "0              o                0.47              0.0  \n",
       "1              o                0.45              0.0  \n",
       "2              u                0.45              1.0  \n",
       "3              o                0.45              0.0  \n",
       "4              o                0.42              1.0  \n",
       "...          ...                 ...              ...  \n",
       "14507          o                0.46              1.0  \n",
       "14508          u                0.50              0.0  \n",
       "14509          u                0.46              0.0  \n",
       "14510          u                0.46              1.0  \n",
       "14511          u                0.42              1.0  \n",
       "\n",
       "[14512 rows x 16 columns]"
      ]
     },
     "execution_count": 8,
     "metadata": {},
     "output_type": "execute_result"
    }
   ],
   "source": [
    "db = client['nba-data']\n",
    "cursor = db['betting-data'].find()\n",
    "mongo_df = pd.DataFrame(list(cursor))\n",
    "mongo_df"
   ]
  },
  {
   "cell_type": "code",
   "execution_count": 9,
   "metadata": {},
   "outputs": [],
   "source": [
    "today = datetime.datetime.today()\n",
    "max_date = datetime.datetime.strptime(max(mongo_df.Date), '%Y-%m-%d')\n",
    "\n",
    "def get_date_list(date):\n",
    "    date_list = []\n",
    "    today = datetime.datetime.today()\n",
    "    max_date = datetime.datetime.strptime(max(mongo_df.Date), '%Y-%m-%d')\n",
    "    delta = today - max_date\n",
    "    date_list = [max_date - datetime.timedelta(days=x) for x in range(0, delta.days)]\n",
    "    date_list = [d.strftime('%Y-%m-%d') for d in date_list]\n",
    "    date_list.append((datetime.datetime.today() - datetime.timedelta(days=1)).strftime('%Y-%m-%d'))\n",
    "    date_list.append(datetime.datetime.today().strftime('%Y-%m-%d'))\n",
    "    date_list = set(date_list)\n",
    "    date_list = list(date_list)\n",
    "    return date_list\n",
    "    \n",
    "    \n",
    "    "
   ]
  },
  {
   "cell_type": "code",
   "execution_count": 10,
   "metadata": {},
   "outputs": [],
   "source": [
    "date_list = get_date_list(today)\n"
   ]
  },
  {
   "cell_type": "code",
   "execution_count": 11,
   "metadata": {},
   "outputs": [
    {
     "data": {
      "text/plain": [
       "['2022-03-31', '2022-04-01']"
      ]
     },
     "execution_count": 11,
     "metadata": {},
     "output_type": "execute_result"
    }
   ],
   "source": [
    "date_list"
   ]
  },
  {
   "cell_type": "code",
   "execution_count": 12,
   "metadata": {},
   "outputs": [],
   "source": [
    "chromedriver = \"/Applications/chromedriver\"\n",
    "os.environ['webdriver.chrome.driver'] = chromedriver\n",
    "driver = webdriver.Chrome(chromedriver)"
   ]
  },
  {
   "cell_type": "code",
   "execution_count": 13,
   "metadata": {},
   "outputs": [],
   "source": [
    "bet_search =  'https://www.bettingpros.com/nba/picks/prop-bets/bet/points/?date='"
   ]
  },
  {
   "cell_type": "code",
   "execution_count": 14,
   "id": "f6a274f0",
   "metadata": {
    "scrolled": true
   },
   "outputs": [],
   "source": [
    "def get_site_rb(date):\n",
    "    bet_query = bet_search + date\n",
    "    driver.get(bet_query)\n",
    "    time.sleep(5)\n",
    "    try:\n",
    "        element = driver.find_element_by_xpath('//*[@id=\"onetrust-accept-btn-handler\"]')\n",
    "        action = ActionChains(driver)\n",
    "        action.move_to_element(element).click().perform()\n",
    "    except:\n",
    "        pass\n",
    "    get_data_rb()\n"
   ]
  },
  {
   "cell_type": "code",
   "execution_count": 15,
   "metadata": {},
   "outputs": [],
   "source": [
    "def get_data_rb():\n",
    "    data_str = []\n",
    "    data = []\n",
    "    li = []\n",
    "    soup = BeautifulSoup(driver.page_source, 'html.parser')\n",
    "    table = soup.find('table')\n",
    "    date = soup.find('h1').text\n",
    "    date = date.split(\" \")[5]\n",
    "    date.strip(')')\n",
    "    date = date.replace('(',\"\").replace(')',\"\")\n",
    "    house_accuracy = soup.find('div', class_='best-props__accuracy').text\n",
    "    table_data = table.tbody.find_all('tr')\n",
    "    for tr in table_data:\n",
    "        data_str.append(tr.text.replace('\\n', ' ').strip())\n",
    "    for i in data_str:\n",
    "        li = list(i.split('            '))\n",
    "        data.append(li)\n",
    "    for i in data:\n",
    "        if len(i) == 7:\n",
    "            i.append('TBD')\n",
    "            i.append(date)\n",
    "            i.append(house_accuracy)\n",
    "        else:\n",
    "            i.append(date)\n",
    "            i.append(house_accuracy)\n",
    "    global final_df\n",
    "    final_df = pd.concat([final_df, pd.DataFrame(data)])\n",
    "    time.sleep(1)\n",
    "\n",
    "    try:\n",
    "        page_progress = driver.find_element_by_xpath('//div[contains(@class, \"table__pagination\")]').text.strip(\"«\").strip(\"»\").strip()\n",
    "        if int(page_progress[5]) == int(page_progress[10]):\n",
    "            return final_df\n",
    "        else:\n",
    "            element = driver.find_element_by_xpath('/html/body/div[2]/main/div/div/div/div[4]/div/div/a[2]')\n",
    "            action = ActionChains(driver)\n",
    "            action.move_to_element(element).click().perform()\n",
    "            time.sleep(3)\n",
    "            get_data_rb()\n",
    "    except:\n",
    "        return final_df"
   ]
  },
  {
   "cell_type": "code",
   "execution_count": 16,
   "metadata": {},
   "outputs": [],
   "source": [
    "final_df = pd.DataFrame()"
   ]
  },
  {
   "cell_type": "code",
   "execution_count": 17,
   "metadata": {},
   "outputs": [],
   "source": [
    "for i in date_list:\n",
    "    get_site_rb(i)"
   ]
  },
  {
   "cell_type": "code",
   "execution_count": 18,
   "metadata": {},
   "outputs": [],
   "source": [
    "driver.close()"
   ]
  },
  {
   "cell_type": "code",
   "execution_count": 19,
   "metadata": {},
   "outputs": [
    {
     "data": {
      "text/html": [
       "<div>\n",
       "<style scoped>\n",
       "    .dataframe tbody tr th:only-of-type {\n",
       "        vertical-align: middle;\n",
       "    }\n",
       "\n",
       "    .dataframe tbody tr th {\n",
       "        vertical-align: top;\n",
       "    }\n",
       "\n",
       "    .dataframe thead th {\n",
       "        text-align: right;\n",
       "    }\n",
       "</style>\n",
       "<table border=\"1\" class=\"dataframe\">\n",
       "  <thead>\n",
       "    <tr style=\"text-align: right;\">\n",
       "      <th></th>\n",
       "      <th>0</th>\n",
       "      <th>1</th>\n",
       "      <th>2</th>\n",
       "      <th>3</th>\n",
       "      <th>4</th>\n",
       "      <th>5</th>\n",
       "      <th>6</th>\n",
       "      <th>7</th>\n",
       "      <th>8</th>\n",
       "      <th>9</th>\n",
       "    </tr>\n",
       "  </thead>\n",
       "  <tbody>\n",
       "    <tr>\n",
       "      <th>0</th>\n",
       "      <td>1 K. Kevin  Love</td>\n",
       "      <td>CLE - F</td>\n",
       "      <td>@ ATL</td>\n",
       "      <td>Points</td>\n",
       "      <td>12.50 (-115)19.30Diff: 6.80 Line: 12.50...</td>\n",
       "      <td>12.5</td>\n",
       "      <td>-115</td>\n",
       "      <td>8         (under)</td>\n",
       "      <td>03-31-2022</td>\n",
       "      <td>Last 7 days Top 15  Accuracy: 46-55 (46%)  Sea...</td>\n",
       "    </tr>\n",
       "    <tr>\n",
       "      <th>1</th>\n",
       "      <td>2 B. Bobby  Portis Jr.</td>\n",
       "      <td>MIL - F</td>\n",
       "      <td>@ BKN</td>\n",
       "      <td>Points</td>\n",
       "      <td>7.50 (-125)13.10Diff: 5.60 Line: 7.50 C...</td>\n",
       "      <td>7.5</td>\n",
       "      <td>-125</td>\n",
       "      <td>9         (over)</td>\n",
       "      <td>03-31-2022</td>\n",
       "      <td>Last 7 days Top 15  Accuracy: 46-55 (46%)  Sea...</td>\n",
       "    </tr>\n",
       "    <tr>\n",
       "      <th>2</th>\n",
       "      <td>3 N. Nikola  Vucevic</td>\n",
       "      <td>CHI - C</td>\n",
       "      <td>vs. LAC</td>\n",
       "      <td>Points</td>\n",
       "      <td>19.50 (-120)15.00Diff: -4.50 Line: 19.5...</td>\n",
       "      <td>19.5</td>\n",
       "      <td>-120</td>\n",
       "      <td>22         (over)</td>\n",
       "      <td>03-31-2022</td>\n",
       "      <td>Last 7 days Top 15  Accuracy: 46-55 (46%)  Sea...</td>\n",
       "    </tr>\n",
       "    <tr>\n",
       "      <th>3</th>\n",
       "      <td>4 G. Goran  Dragic</td>\n",
       "      <td>BKN - G</td>\n",
       "      <td>vs. MIL</td>\n",
       "      <td>Points</td>\n",
       "      <td>7.50 (-125)12.00Diff: 4.50 Line: 7.50 C...</td>\n",
       "      <td>7.5</td>\n",
       "      <td>-125</td>\n",
       "      <td>5         (under)</td>\n",
       "      <td>03-31-2022</td>\n",
       "      <td>Last 7 days Top 15  Accuracy: 46-55 (46%)  Sea...</td>\n",
       "    </tr>\n",
       "    <tr>\n",
       "      <th>4</th>\n",
       "      <td>5 P. Paul  George</td>\n",
       "      <td>LAC - F</td>\n",
       "      <td>@ CHI</td>\n",
       "      <td>Points</td>\n",
       "      <td>25.50 (-130)21.20Diff: -4.30 Line: 25.5...</td>\n",
       "      <td>25.5</td>\n",
       "      <td>-130</td>\n",
       "      <td>22         (under)</td>\n",
       "      <td>03-31-2022</td>\n",
       "      <td>Last 7 days Top 15  Accuracy: 46-55 (46%)  Sea...</td>\n",
       "    </tr>\n",
       "    <tr>\n",
       "      <th>...</th>\n",
       "      <td>...</td>\n",
       "      <td>...</td>\n",
       "      <td>...</td>\n",
       "      <td>...</td>\n",
       "      <td>...</td>\n",
       "      <td>...</td>\n",
       "      <td>...</td>\n",
       "      <td>...</td>\n",
       "      <td>...</td>\n",
       "      <td>...</td>\n",
       "    </tr>\n",
       "    <tr>\n",
       "      <th>38</th>\n",
       "      <td>89 M. Mo  Bamba</td>\n",
       "      <td>ORL - C</td>\n",
       "      <td>vs. TOR</td>\n",
       "      <td>Points</td>\n",
       "      <td>10.50 (+105)10.70Diff: 0.20 Line: 10.50...</td>\n",
       "      <td>10.5</td>\n",
       "      <td>+105     TBD</td>\n",
       "      <td>TBD</td>\n",
       "      <td>04-01-2022</td>\n",
       "      <td>Last 7 days Top 15  Accuracy: 41-61 (40%)  Sea...</td>\n",
       "    </tr>\n",
       "    <tr>\n",
       "      <th>39</th>\n",
       "      <td>90 N. Naz  Reid</td>\n",
       "      <td>MIN - C</td>\n",
       "      <td>@ DEN</td>\n",
       "      <td>Points</td>\n",
       "      <td>7.50 (EVEN)7.40Diff: -0.10 Line: 7.50 C...</td>\n",
       "      <td>7.5</td>\n",
       "      <td>EVEN     TBD</td>\n",
       "      <td>TBD</td>\n",
       "      <td>04-01-2022</td>\n",
       "      <td>Last 7 days Top 15  Accuracy: 41-61 (40%)  Sea...</td>\n",
       "    </tr>\n",
       "    <tr>\n",
       "      <th>40</th>\n",
       "      <td>91 T. Taurean  Prince</td>\n",
       "      <td>MIN - F</td>\n",
       "      <td>@ DEN</td>\n",
       "      <td>Points</td>\n",
       "      <td>9.50 (-105)9.40Diff: -0.10 Line: 9.50 C...</td>\n",
       "      <td>9.5</td>\n",
       "      <td>-105     TBD</td>\n",
       "      <td>TBD</td>\n",
       "      <td>04-01-2022</td>\n",
       "      <td>Last 7 days Top 15  Accuracy: 41-61 (40%)  Sea...</td>\n",
       "    </tr>\n",
       "    <tr>\n",
       "      <th>41</th>\n",
       "      <td>92 D. Devin  Booker</td>\n",
       "      <td>PHO - G</td>\n",
       "      <td>@ MEM</td>\n",
       "      <td>Points</td>\n",
       "      <td>27.50 (-105)27.40Diff: -0.10 Line: 27.5...</td>\n",
       "      <td>27.5</td>\n",
       "      <td>-105     TBD</td>\n",
       "      <td>TBD</td>\n",
       "      <td>04-01-2022</td>\n",
       "      <td>Last 7 days Top 15  Accuracy: 41-61 (40%)  Sea...</td>\n",
       "    </tr>\n",
       "    <tr>\n",
       "      <th>42</th>\n",
       "      <td>93 J. Jayson  Tatum</td>\n",
       "      <td>BOS - F</td>\n",
       "      <td>vs. IND</td>\n",
       "      <td>Points</td>\n",
       "      <td>28.50 (-105)28.60Diff: 0.10 Line: 28.50...</td>\n",
       "      <td>28.5</td>\n",
       "      <td>-105     TBD</td>\n",
       "      <td>TBD</td>\n",
       "      <td>04-01-2022</td>\n",
       "      <td>Last 7 days Top 15  Accuracy: 41-61 (40%)  Sea...</td>\n",
       "    </tr>\n",
       "  </tbody>\n",
       "</table>\n",
       "<p>161 rows × 10 columns</p>\n",
       "</div>"
      ],
      "text/plain": [
       "                         0        1        2                3  \\\n",
       "0         1 K. Kevin  Love  CLE - F    @ ATL           Points   \n",
       "1   2 B. Bobby  Portis Jr.  MIL - F    @ BKN           Points   \n",
       "2     3 N. Nikola  Vucevic  CHI - C  vs. LAC           Points   \n",
       "3       4 G. Goran  Dragic  BKN - G  vs. MIL           Points   \n",
       "4        5 P. Paul  George  LAC - F    @ CHI           Points   \n",
       "..                     ...      ...      ...              ...   \n",
       "38         89 M. Mo  Bamba  ORL - C  vs. TOR           Points   \n",
       "39         90 N. Naz  Reid  MIN - C    @ DEN           Points   \n",
       "40   91 T. Taurean  Prince  MIN - F    @ DEN           Points   \n",
       "41     92 D. Devin  Booker  PHO - G    @ MEM           Points   \n",
       "42     93 J. Jayson  Tatum  BOS - F  vs. IND           Points   \n",
       "\n",
       "                                                    4           5  \\\n",
       "0          12.50 (-115)19.30Diff: 6.80 Line: 12.50...        12.5   \n",
       "1          7.50 (-125)13.10Diff: 5.60 Line: 7.50 C...         7.5   \n",
       "2          19.50 (-120)15.00Diff: -4.50 Line: 19.5...        19.5   \n",
       "3          7.50 (-125)12.00Diff: 4.50 Line: 7.50 C...         7.5   \n",
       "4          25.50 (-130)21.20Diff: -4.30 Line: 25.5...        25.5   \n",
       "..                                                ...         ...   \n",
       "38         10.50 (+105)10.70Diff: 0.20 Line: 10.50...        10.5   \n",
       "39         7.50 (EVEN)7.40Diff: -0.10 Line: 7.50 C...         7.5   \n",
       "40         9.50 (-105)9.40Diff: -0.10 Line: 9.50 C...         9.5   \n",
       "41         27.50 (-105)27.40Diff: -0.10 Line: 27.5...        27.5   \n",
       "42         28.50 (-105)28.60Diff: 0.10 Line: 28.50...        28.5   \n",
       "\n",
       "                 6                      7           8  \\\n",
       "0             -115      8         (under)  03-31-2022   \n",
       "1             -125       9         (over)  03-31-2022   \n",
       "2             -120      22         (over)  03-31-2022   \n",
       "3             -125      5         (under)  03-31-2022   \n",
       "4             -130     22         (under)  03-31-2022   \n",
       "..             ...                    ...         ...   \n",
       "38    +105     TBD                    TBD  04-01-2022   \n",
       "39    EVEN     TBD                    TBD  04-01-2022   \n",
       "40    -105     TBD                    TBD  04-01-2022   \n",
       "41    -105     TBD                    TBD  04-01-2022   \n",
       "42    -105     TBD                    TBD  04-01-2022   \n",
       "\n",
       "                                                    9  \n",
       "0   Last 7 days Top 15  Accuracy: 46-55 (46%)  Sea...  \n",
       "1   Last 7 days Top 15  Accuracy: 46-55 (46%)  Sea...  \n",
       "2   Last 7 days Top 15  Accuracy: 46-55 (46%)  Sea...  \n",
       "3   Last 7 days Top 15  Accuracy: 46-55 (46%)  Sea...  \n",
       "4   Last 7 days Top 15  Accuracy: 46-55 (46%)  Sea...  \n",
       "..                                                ...  \n",
       "38  Last 7 days Top 15  Accuracy: 41-61 (40%)  Sea...  \n",
       "39  Last 7 days Top 15  Accuracy: 41-61 (40%)  Sea...  \n",
       "40  Last 7 days Top 15  Accuracy: 41-61 (40%)  Sea...  \n",
       "41  Last 7 days Top 15  Accuracy: 41-61 (40%)  Sea...  \n",
       "42  Last 7 days Top 15  Accuracy: 41-61 (40%)  Sea...  \n",
       "\n",
       "[161 rows x 10 columns]"
      ]
     },
     "execution_count": 19,
     "metadata": {},
     "output_type": "execute_result"
    }
   ],
   "source": [
    "final_df"
   ]
  },
  {
   "cell_type": "code",
   "execution_count": 20,
   "id": "9068352b",
   "metadata": {
    "scrolled": true
   },
   "outputs": [],
   "source": [
    "#Clean up below\n",
    "final_df.columns=['Name', 'Team', 'Opp', 'Type', 'Line', 'Pick', 'Moneyline', 'Result', 'Date', 'Accuracy']"
   ]
  },
  {
   "cell_type": "code",
   "execution_count": 21,
   "metadata": {},
   "outputs": [],
   "source": [
    "final_df.reset_index(drop=True, inplace=True)"
   ]
  },
  {
   "cell_type": "code",
   "execution_count": 22,
   "id": "73d1cf4b",
   "metadata": {
    "scrolled": true
   },
   "outputs": [],
   "source": [
    "player_name = final_df.Name.str.split(\" \", expand = True)\n",
    "final_df['Name'] = player_name[2] + ' ' + player_name[4]"
   ]
  },
  {
   "cell_type": "code",
   "execution_count": 23,
   "id": "38cbb683",
   "metadata": {
    "scrolled": true
   },
   "outputs": [],
   "source": [
    "team = final_df.Team.str.split(\" \", expand = True)\n",
    "final_df['Team'] = team[0]\n",
    "final_df['Position'] = team[2]"
   ]
  },
  {
   "cell_type": "code",
   "execution_count": 24,
   "id": "d694206e",
   "metadata": {
    "scrolled": true
   },
   "outputs": [],
   "source": [
    "opp = final_df.Opp.str.split(\" \", expand = True)\n",
    "final_df.Opp = opp[1]\n",
    "final_df['Home/Away'] = opp[0]"
   ]
  },
  {
   "cell_type": "code",
   "execution_count": 25,
   "id": "9a357447",
   "metadata": {
    "scrolled": true
   },
   "outputs": [],
   "source": [
    "bet_info = final_df.Line.str.split(\" \", expand = True)\n",
    "final_df['Line'] = bet_info[7]\n",
    "final_df['Projection'] = bet_info[15]\n",
    "final_df['Diff'] = bet_info[9]\n",
    "final_df['Moneyline'] = bet_info[13]\n",
    "final_df['over_under'] = bet_info[16]\n",
    "final_df['over_under'] = final_df['over_under'].fillna('o')"
   ]
  },
  {
   "cell_type": "code",
   "execution_count": 26,
   "id": "bd585653",
   "metadata": {
    "scrolled": true
   },
   "outputs": [],
   "source": [
    "final_df = final_df[['Date', 'Name', 'Team', 'Position', 'Opp','Home/Away', 'Line', 'Moneyline', 'Projection', 'Diff', 'Pick', 'Result', 'Accuracy', 'over_under']]"
   ]
  },
  {
   "cell_type": "code",
   "execution_count": 27,
   "id": "4c0b6c72",
   "metadata": {},
   "outputs": [],
   "source": [
    "final_df = final_df.copy()"
   ]
  },
  {
   "cell_type": "code",
   "execution_count": 28,
   "id": "65d9900b",
   "metadata": {
    "scrolled": true
   },
   "outputs": [],
   "source": [
    "final_df['Projection'] = final_df['Projection'].map(lambda x: x.rstrip('ou'))"
   ]
  },
  {
   "cell_type": "code",
   "execution_count": 29,
   "id": "f8e20d1c",
   "metadata": {
    "scrolled": true
   },
   "outputs": [],
   "source": [
    "accuracies = final_df.Accuracy.str.split(\" \", expand = True)"
   ]
  },
  {
   "cell_type": "code",
   "execution_count": 30,
   "id": "b0672ae5",
   "metadata": {
    "scrolled": false
   },
   "outputs": [],
   "source": [
    "final_df['seven_day_accuracy'] = accuracies[8]"
   ]
  },
  {
   "cell_type": "code",
   "execution_count": 31,
   "id": "f4e1a8e9",
   "metadata": {
    "scrolled": true
   },
   "outputs": [],
   "source": [
    "final_df.seven_day_accuracy = final_df.seven_day_accuracy.replace('', 50, regex=True)"
   ]
  },
  {
   "cell_type": "code",
   "execution_count": 32,
   "id": "14816398",
   "metadata": {
    "scrolled": false
   },
   "outputs": [],
   "source": [
    "final_df['seven_day_accuracy'] = final_df['seven_day_accuracy'].map(lambda x: x.lstrip('(').rstrip('%)'))"
   ]
  },
  {
   "cell_type": "code",
   "execution_count": 33,
   "id": "e610cba1",
   "metadata": {
    "scrolled": true
   },
   "outputs": [],
   "source": [
    "final_df['seven_day_accuracy'] = pd.to_numeric(final_df['seven_day_accuracy'])"
   ]
  },
  {
   "cell_type": "code",
   "execution_count": 34,
   "id": "31b410a9",
   "metadata": {
    "scrolled": false
   },
   "outputs": [],
   "source": [
    "final_df['seven_day_accuracy'] = final_df['seven_day_accuracy'].map(lambda x: x/100)"
   ]
  },
  {
   "cell_type": "code",
   "execution_count": 35,
   "id": "ab5074ca",
   "metadata": {
    "scrolled": true
   },
   "outputs": [],
   "source": [
    "final_df.drop(columns=['Accuracy'], inplace=True)"
   ]
  },
  {
   "cell_type": "code",
   "execution_count": 36,
   "id": "7ce36d3b",
   "metadata": {},
   "outputs": [],
   "source": [
    "final_df['Date'] = pd.to_datetime(final_df['Date'])"
   ]
  },
  {
   "cell_type": "code",
   "execution_count": 37,
   "id": "455441a4",
   "metadata": {
    "scrolled": true
   },
   "outputs": [],
   "source": [
    "# Final form betting df, additional cleaning and saving to csv below\n",
    "sorted_df = final_df.sort_values(by=['Name', 'Date'])\n",
    "sorted_df.reset_index(inplace=True, drop=True)"
   ]
  },
  {
   "cell_type": "code",
   "execution_count": 38,
   "id": "e42b4a0c",
   "metadata": {
    "scrolled": true
   },
   "outputs": [],
   "source": [
    "sorted_df['Line'] = pd.to_numeric(sorted_df.Line)"
   ]
  },
  {
   "cell_type": "code",
   "execution_count": 39,
   "id": "f25158a9",
   "metadata": {
    "scrolled": true
   },
   "outputs": [],
   "source": [
    "sorted_df = sorted_df.replace('EVEN', '+100')"
   ]
  },
  {
   "cell_type": "code",
   "execution_count": 40,
   "id": "da39c6be",
   "metadata": {
    "scrolled": true
   },
   "outputs": [],
   "source": [
    "sorted_df['Moneyline'] = pd.to_numeric(sorted_df.Moneyline)"
   ]
  },
  {
   "cell_type": "code",
   "execution_count": 41,
   "id": "5158b498",
   "metadata": {},
   "outputs": [],
   "source": [
    "sorted_df['Result'] = sorted_df.Result.apply(lambda x: str(x))"
   ]
  },
  {
   "cell_type": "code",
   "execution_count": 42,
   "id": "45b053d0",
   "metadata": {},
   "outputs": [],
   "source": [
    "results = sorted_df.Result.str.split(' ', expand=True);"
   ]
  },
  {
   "cell_type": "code",
   "execution_count": 43,
   "id": "7a45859e",
   "metadata": {},
   "outputs": [],
   "source": [
    "try:\n",
    "    sorted_df.Result = results[3]\n",
    "except:\n",
    "    sorted_df.Result = results[0]"
   ]
  },
  {
   "cell_type": "code",
   "execution_count": 44,
   "metadata": {},
   "outputs": [],
   "source": [
    "sorted_df = sorted_df.replace('TBD', None)"
   ]
  },
  {
   "cell_type": "code",
   "execution_count": 45,
   "id": "bd77c572",
   "metadata": {
    "scrolled": true
   },
   "outputs": [],
   "source": [
    "sorted_df['Projection'] = pd.to_numeric(sorted_df.Projection)\n",
    "sorted_df['Diff'] = pd.to_numeric(sorted_df.Diff)\n",
    "sorted_df['Result'] = pd.to_numeric(sorted_df.Result)\n",
    "sorted_df['Pick'] = pd.to_numeric(sorted_df.Pick)"
   ]
  },
  {
   "cell_type": "code",
   "execution_count": 46,
   "id": "8d9abb2e",
   "metadata": {
    "scrolled": true
   },
   "outputs": [],
   "source": [
    "# Determine if website pick was a win or loss (for fun, potential spinoff angle).\n",
    "conditions = [\n",
    "    ((sorted_df['Result'] < sorted_df['Pick']) & (sorted_df['over_under'] == 'u')),\n",
    "    ((sorted_df['Result'] < sorted_df['Pick']) & (sorted_df['over_under'] == 'o')),\n",
    "    ((sorted_df['Result'] > sorted_df['Pick']) & (sorted_df['over_under'] =='o')),\n",
    "    ((sorted_df['Result'] > sorted_df['Pick']) & (sorted_df['over_under'] == 'u')),\n",
    "    (sorted_df['Result'].isna() == True)\n",
    "    ]\n",
    "\n",
    "# create a list of the values we want to assign for each condition\n",
    "values = ['1', '0', '1', '0', np.nan]\n",
    "\n",
    "# create a new column and use np.select to assign values to it using our lists as arguments\n",
    "sorted_df['successful_pick'] = np.select(conditions, values)"
   ]
  },
  {
   "cell_type": "code",
   "execution_count": 47,
   "metadata": {},
   "outputs": [
    {
     "data": {
      "text/html": [
       "<div>\n",
       "<style scoped>\n",
       "    .dataframe tbody tr th:only-of-type {\n",
       "        vertical-align: middle;\n",
       "    }\n",
       "\n",
       "    .dataframe tbody tr th {\n",
       "        vertical-align: top;\n",
       "    }\n",
       "\n",
       "    .dataframe thead th {\n",
       "        text-align: right;\n",
       "    }\n",
       "</style>\n",
       "<table border=\"1\" class=\"dataframe\">\n",
       "  <thead>\n",
       "    <tr style=\"text-align: right;\">\n",
       "      <th></th>\n",
       "      <th>Date</th>\n",
       "      <th>Name</th>\n",
       "      <th>Team</th>\n",
       "      <th>Position</th>\n",
       "      <th>Opp</th>\n",
       "      <th>Home/Away</th>\n",
       "      <th>Line</th>\n",
       "      <th>Moneyline</th>\n",
       "      <th>Projection</th>\n",
       "      <th>Diff</th>\n",
       "      <th>Pick</th>\n",
       "      <th>Result</th>\n",
       "      <th>over_under</th>\n",
       "      <th>seven_day_accuracy</th>\n",
       "      <th>successful_pick</th>\n",
       "    </tr>\n",
       "  </thead>\n",
       "  <tbody>\n",
       "    <tr>\n",
       "      <th>0</th>\n",
       "      <td>2022-03-31</td>\n",
       "      <td>Bogdan</td>\n",
       "      <td>ATL</td>\n",
       "      <td>G</td>\n",
       "      <td>CLE</td>\n",
       "      <td>vs.</td>\n",
       "      <td>16.5</td>\n",
       "      <td>-115</td>\n",
       "      <td>14.8</td>\n",
       "      <td>-1.7</td>\n",
       "      <td>16.5</td>\n",
       "      <td>11.0</td>\n",
       "      <td>u</td>\n",
       "      <td>0.46</td>\n",
       "      <td>1</td>\n",
       "    </tr>\n",
       "    <tr>\n",
       "      <th>1</th>\n",
       "      <td>2022-04-01</td>\n",
       "      <td>Aaron Gordon</td>\n",
       "      <td>DEN</td>\n",
       "      <td>F</td>\n",
       "      <td>MIN</td>\n",
       "      <td>vs.</td>\n",
       "      <td>15.5</td>\n",
       "      <td>-115</td>\n",
       "      <td>7.0</td>\n",
       "      <td>-8.5</td>\n",
       "      <td>15.5</td>\n",
       "      <td>NaN</td>\n",
       "      <td>u</td>\n",
       "      <td>0.40</td>\n",
       "      <td>nan</td>\n",
       "    </tr>\n",
       "    <tr>\n",
       "      <th>2</th>\n",
       "      <td>2022-04-01</td>\n",
       "      <td>Aaron Wiggins</td>\n",
       "      <td>OKC</td>\n",
       "      <td>G</td>\n",
       "      <td>DET</td>\n",
       "      <td>vs.</td>\n",
       "      <td>15.5</td>\n",
       "      <td>-115</td>\n",
       "      <td>11.2</td>\n",
       "      <td>-4.3</td>\n",
       "      <td>15.5</td>\n",
       "      <td>NaN</td>\n",
       "      <td>u</td>\n",
       "      <td>0.40</td>\n",
       "      <td>nan</td>\n",
       "    </tr>\n",
       "    <tr>\n",
       "      <th>3</th>\n",
       "      <td>2022-04-01</td>\n",
       "      <td>Al Horford</td>\n",
       "      <td>BOS</td>\n",
       "      <td>C</td>\n",
       "      <td>IND</td>\n",
       "      <td>vs.</td>\n",
       "      <td>9.5</td>\n",
       "      <td>-129</td>\n",
       "      <td>12.2</td>\n",
       "      <td>2.7</td>\n",
       "      <td>9.5</td>\n",
       "      <td>NaN</td>\n",
       "      <td>o</td>\n",
       "      <td>0.40</td>\n",
       "      <td>nan</td>\n",
       "    </tr>\n",
       "    <tr>\n",
       "      <th>4</th>\n",
       "      <td>2022-04-01</td>\n",
       "      <td>Aleksej Pokusevski</td>\n",
       "      <td>OKC</td>\n",
       "      <td>C</td>\n",
       "      <td>DET</td>\n",
       "      <td>vs.</td>\n",
       "      <td>15.5</td>\n",
       "      <td>-149</td>\n",
       "      <td>14.2</td>\n",
       "      <td>-1.3</td>\n",
       "      <td>15.5</td>\n",
       "      <td>NaN</td>\n",
       "      <td>u</td>\n",
       "      <td>0.40</td>\n",
       "      <td>nan</td>\n",
       "    </tr>\n",
       "    <tr>\n",
       "      <th>...</th>\n",
       "      <td>...</td>\n",
       "      <td>...</td>\n",
       "      <td>...</td>\n",
       "      <td>...</td>\n",
       "      <td>...</td>\n",
       "      <td>...</td>\n",
       "      <td>...</td>\n",
       "      <td>...</td>\n",
       "      <td>...</td>\n",
       "      <td>...</td>\n",
       "      <td>...</td>\n",
       "      <td>...</td>\n",
       "      <td>...</td>\n",
       "      <td>...</td>\n",
       "      <td>...</td>\n",
       "    </tr>\n",
       "    <tr>\n",
       "      <th>156</th>\n",
       "      <td>2022-04-01</td>\n",
       "      <td>Vit Krejci</td>\n",
       "      <td>OKC</td>\n",
       "      <td>G</td>\n",
       "      <td>DET</td>\n",
       "      <td>vs.</td>\n",
       "      <td>10.5</td>\n",
       "      <td>-105</td>\n",
       "      <td>8.1</td>\n",
       "      <td>-2.4</td>\n",
       "      <td>10.5</td>\n",
       "      <td>NaN</td>\n",
       "      <td>u</td>\n",
       "      <td>0.40</td>\n",
       "      <td>nan</td>\n",
       "    </tr>\n",
       "    <tr>\n",
       "      <th>157</th>\n",
       "      <td>2022-03-31</td>\n",
       "      <td>Wesley Matthews</td>\n",
       "      <td>MIL</td>\n",
       "      <td>G</td>\n",
       "      <td>BKN</td>\n",
       "      <td>@</td>\n",
       "      <td>5.5</td>\n",
       "      <td>-115</td>\n",
       "      <td>5.1</td>\n",
       "      <td>-0.4</td>\n",
       "      <td>5.5</td>\n",
       "      <td>11.0</td>\n",
       "      <td>u</td>\n",
       "      <td>0.46</td>\n",
       "      <td>0</td>\n",
       "    </tr>\n",
       "    <tr>\n",
       "      <th>158</th>\n",
       "      <td>2022-04-01</td>\n",
       "      <td>Will Barton</td>\n",
       "      <td>DEN</td>\n",
       "      <td>G</td>\n",
       "      <td>MIN</td>\n",
       "      <td>vs.</td>\n",
       "      <td>15.5</td>\n",
       "      <td>-113</td>\n",
       "      <td>16.1</td>\n",
       "      <td>0.6</td>\n",
       "      <td>15.5</td>\n",
       "      <td>NaN</td>\n",
       "      <td>o</td>\n",
       "      <td>0.40</td>\n",
       "      <td>nan</td>\n",
       "    </tr>\n",
       "    <tr>\n",
       "      <th>159</th>\n",
       "      <td>2022-04-01</td>\n",
       "      <td>Zach Collins</td>\n",
       "      <td>SAS</td>\n",
       "      <td>F</td>\n",
       "      <td>POR</td>\n",
       "      <td>vs.</td>\n",
       "      <td>7.5</td>\n",
       "      <td>105</td>\n",
       "      <td>6.3</td>\n",
       "      <td>-1.2</td>\n",
       "      <td>7.5</td>\n",
       "      <td>NaN</td>\n",
       "      <td>u</td>\n",
       "      <td>0.40</td>\n",
       "      <td>nan</td>\n",
       "    </tr>\n",
       "    <tr>\n",
       "      <th>160</th>\n",
       "      <td>2022-03-31</td>\n",
       "      <td>Zach LaVine</td>\n",
       "      <td>CHI</td>\n",
       "      <td>G</td>\n",
       "      <td>LAC</td>\n",
       "      <td>vs.</td>\n",
       "      <td>22.5</td>\n",
       "      <td>-115</td>\n",
       "      <td>24.5</td>\n",
       "      <td>2.0</td>\n",
       "      <td>22.5</td>\n",
       "      <td>21.0</td>\n",
       "      <td>o</td>\n",
       "      <td>0.46</td>\n",
       "      <td>0</td>\n",
       "    </tr>\n",
       "  </tbody>\n",
       "</table>\n",
       "<p>161 rows × 15 columns</p>\n",
       "</div>"
      ],
      "text/plain": [
       "          Date                Name Team Position  Opp Home/Away  Line  \\\n",
       "0   2022-03-31              Bogdan  ATL        G  CLE       vs.  16.5   \n",
       "1   2022-04-01        Aaron Gordon  DEN        F  MIN       vs.  15.5   \n",
       "2   2022-04-01       Aaron Wiggins  OKC        G  DET       vs.  15.5   \n",
       "3   2022-04-01          Al Horford  BOS        C  IND       vs.   9.5   \n",
       "4   2022-04-01  Aleksej Pokusevski  OKC        C  DET       vs.  15.5   \n",
       "..         ...                 ...  ...      ...  ...       ...   ...   \n",
       "156 2022-04-01          Vit Krejci  OKC        G  DET       vs.  10.5   \n",
       "157 2022-03-31     Wesley Matthews  MIL        G  BKN         @   5.5   \n",
       "158 2022-04-01         Will Barton  DEN        G  MIN       vs.  15.5   \n",
       "159 2022-04-01        Zach Collins  SAS        F  POR       vs.   7.5   \n",
       "160 2022-03-31         Zach LaVine  CHI        G  LAC       vs.  22.5   \n",
       "\n",
       "     Moneyline  Projection  Diff  Pick  Result over_under  seven_day_accuracy  \\\n",
       "0         -115        14.8  -1.7  16.5    11.0          u                0.46   \n",
       "1         -115         7.0  -8.5  15.5     NaN          u                0.40   \n",
       "2         -115        11.2  -4.3  15.5     NaN          u                0.40   \n",
       "3         -129        12.2   2.7   9.5     NaN          o                0.40   \n",
       "4         -149        14.2  -1.3  15.5     NaN          u                0.40   \n",
       "..         ...         ...   ...   ...     ...        ...                 ...   \n",
       "156       -105         8.1  -2.4  10.5     NaN          u                0.40   \n",
       "157       -115         5.1  -0.4   5.5    11.0          u                0.46   \n",
       "158       -113        16.1   0.6  15.5     NaN          o                0.40   \n",
       "159        105         6.3  -1.2   7.5     NaN          u                0.40   \n",
       "160       -115        24.5   2.0  22.5    21.0          o                0.46   \n",
       "\n",
       "    successful_pick  \n",
       "0                 1  \n",
       "1               nan  \n",
       "2               nan  \n",
       "3               nan  \n",
       "4               nan  \n",
       "..              ...  \n",
       "156             nan  \n",
       "157               0  \n",
       "158             nan  \n",
       "159             nan  \n",
       "160               0  \n",
       "\n",
       "[161 rows x 15 columns]"
      ]
     },
     "execution_count": 47,
     "metadata": {},
     "output_type": "execute_result"
    }
   ],
   "source": [
    "sorted_df"
   ]
  },
  {
   "cell_type": "code",
   "execution_count": 48,
   "metadata": {},
   "outputs": [],
   "source": [
    "from nba_api.stats.endpoints import commonplayerinfo"
   ]
  },
  {
   "cell_type": "code",
   "execution_count": 49,
   "metadata": {},
   "outputs": [],
   "source": [
    "player_info = commonplayerinfo.CommonPlayerInfo(player_id=2544)"
   ]
  },
  {
   "cell_type": "code",
   "execution_count": 50,
   "metadata": {},
   "outputs": [
    {
     "data": {
      "text/plain": [
       "<nba_api.stats.endpoints.commonplayerinfo.CommonPlayerInfo at 0x7f7fe6db6dc0>"
      ]
     },
     "execution_count": 50,
     "metadata": {},
     "output_type": "execute_result"
    }
   ],
   "source": [
    "player_info"
   ]
  },
  {
   "cell_type": "code",
   "execution_count": 52,
   "metadata": {},
   "outputs": [
    {
     "data": {
      "text/plain": [
       "[   PERSON_ID FIRST_NAME LAST_NAME DISPLAY_FIRST_LAST DISPLAY_LAST_COMMA_FIRST  \\\n",
       " 0       2544     LeBron     James       LeBron James            James, LeBron   \n",
       " \n",
       "   DISPLAY_FI_LAST   PLAYER_SLUG            BIRTHDATE  \\\n",
       " 0        L. James  lebron-james  1984-12-30T00:00:00   \n",
       " \n",
       "                          SCHOOL COUNTRY  ...    PLAYERCODE FROM_YEAR TO_YEAR  \\\n",
       " 0  St. Vincent-St. Mary HS (OH)     USA  ...  lebron_james      2003    2021   \n",
       " \n",
       "    DLEAGUE_FLAG NBA_FLAG GAMES_PLAYED_FLAG DRAFT_YEAR DRAFT_ROUND  \\\n",
       " 0             N        Y                 Y       2003           1   \n",
       " \n",
       "    DRAFT_NUMBER GREATEST_75_FLAG  \n",
       " 0             1                Y  \n",
       " \n",
       " [1 rows x 33 columns],\n",
       "    PLAYER_ID   PLAYER_NAME TimeFrame   PTS  AST  REB   PIE\n",
       " 0       2544  LeBron James   2021-22  30.1  6.3  8.2  0.18,\n",
       "    SEASON_ID\n",
       " 0      12003\n",
       " 1      22003\n",
       " 2      12004\n",
       " 3      22004\n",
       " 4      32004\n",
       " ..       ...\n",
       " 67     42020\n",
       " 68     52020\n",
       " 69     12021\n",
       " 70     22021\n",
       " 71     32021\n",
       " \n",
       " [72 rows x 1 columns]]"
      ]
     },
     "execution_count": 52,
     "metadata": {},
     "output_type": "execute_result"
    }
   ],
   "source": [
    "player_info.get_data_frames()"
   ]
  }
 ],
 "metadata": {
  "interpreter": {
   "hash": "5e7caf9a0330a0431ece04fbb5ae0c2702e926a952f28ce7bb1847c9f40f39fc"
  },
  "kernelspec": {
   "display_name": "Python 3.8.12 ('engineering')",
   "language": "python",
   "name": "python3"
  },
  "language_info": {
   "codemirror_mode": {
    "name": "ipython",
    "version": 3
   },
   "file_extension": ".py",
   "mimetype": "text/x-python",
   "name": "python",
   "nbconvert_exporter": "python",
   "pygments_lexer": "ipython3",
   "version": "3.8.12"
  },
  "orig_nbformat": 4
 },
 "nbformat": 4,
 "nbformat_minor": 2
}
