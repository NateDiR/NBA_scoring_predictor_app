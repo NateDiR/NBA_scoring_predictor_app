{
 "cells": [
  {
   "cell_type": "code",
   "execution_count": 1,
   "id": "d04a20f9",
   "metadata": {},
   "outputs": [],
   "source": [
    "%reset -fs"
   ]
  },
  {
   "cell_type": "code",
   "execution_count": 2,
   "metadata": {},
   "outputs": [],
   "source": [
    "import pandas as pd\n",
    "import numpy as np\n",
    "import time, os\n",
    "from bs4 import BeautifulSoup\n",
    "from selenium import webdriver\n",
    "from selenium.webdriver.common.action_chains import ActionChains\n",
    "from pymongo import MongoClient\n",
    "import pandas as pd\n",
    "import datetime"
   ]
  },
  {
   "cell_type": "code",
   "execution_count": 3,
   "metadata": {},
   "outputs": [],
   "source": [
    "client = MongoClient()"
   ]
  },
  {
   "cell_type": "code",
   "execution_count": 4,
   "metadata": {},
   "outputs": [],
   "source": [
    "db = client.nba_db\n",
    "cursor = db.betting_data.find()\n",
    "mongo_df = pd.DataFrame(list(cursor))"
   ]
  },
  {
   "cell_type": "code",
   "execution_count": 5,
   "metadata": {},
   "outputs": [],
   "source": [
    "today = datetime.datetime.today()\n",
    "max_date = datetime.datetime.strptime(max(mongo_df.Date), '%Y-%m-%d')\n",
    "\n",
    "def get_date_list(date):\n",
    "    date_list = []\n",
    "    today = datetime.datetime.today()\n",
    "    max_date = datetime.datetime.strptime(max(mongo_df.Date), '%Y-%m-%d')\n",
    "    delta = today - max_date\n",
    "    date_list = [max_date - datetime.timedelta(days=x) for x in range(0, delta.days)]\n",
    "    date_list = [d.strftime('%Y-%m-%d') for d in date_list]\n",
    "    date_list.append((datetime.datetime.today() - datetime.timedelta(days=1)).strftime('%Y-%m-%d'))\n",
    "    date_list.append(datetime.datetime.today().strftime('%Y-%m-%d'))\n",
    "    date_list = set(date_list)\n",
    "    date_list = list(date_list)\n",
    "    return date_list\n",
    "    \n",
    "    \n",
    "    "
   ]
  },
  {
   "cell_type": "code",
   "execution_count": 6,
   "metadata": {},
   "outputs": [],
   "source": [
    "date_list = get_date_list(today)\n"
   ]
  },
  {
   "cell_type": "code",
   "execution_count": 7,
   "metadata": {},
   "outputs": [
    {
     "data": {
      "text/plain": [
       "['2022-04-01', '2022-03-31']"
      ]
     },
     "execution_count": 7,
     "metadata": {},
     "output_type": "execute_result"
    }
   ],
   "source": [
    "date_list"
   ]
  },
  {
   "cell_type": "code",
   "execution_count": 8,
   "metadata": {},
   "outputs": [],
   "source": [
    "chromedriver = \"/Applications/chromedriver\"\n",
    "os.environ['webdriver.chrome.driver'] = chromedriver\n",
    "driver = webdriver.Chrome(chromedriver)"
   ]
  },
  {
   "cell_type": "code",
   "execution_count": 9,
   "metadata": {},
   "outputs": [],
   "source": [
    "bet_search =  'https://www.bettingpros.com/nba/picks/prop-bets/bet/points/?date='"
   ]
  },
  {
   "cell_type": "code",
   "execution_count": 10,
   "id": "f6a274f0",
   "metadata": {
    "scrolled": true
   },
   "outputs": [],
   "source": [
    "def get_site_rb(date):\n",
    "    bet_query = bet_search + date\n",
    "    driver.get(bet_query)\n",
    "    time.sleep(5)\n",
    "    try:\n",
    "        element = driver.find_element_by_xpath('//*[@id=\"onetrust-accept-btn-handler\"]')\n",
    "        action = ActionChains(driver)\n",
    "        action.move_to_element(element).click().perform()\n",
    "    except:\n",
    "        pass\n",
    "    get_data_rb()\n"
   ]
  },
  {
   "cell_type": "code",
   "execution_count": 11,
   "metadata": {},
   "outputs": [],
   "source": [
    "def get_data_rb():\n",
    "    data_str = []\n",
    "    data = []\n",
    "    li = []\n",
    "    soup = BeautifulSoup(driver.page_source, 'html.parser')\n",
    "    table = soup.find('table')\n",
    "    date = soup.find('h1').text\n",
    "    date = date.split(\" \")[5]\n",
    "    date.strip(')')\n",
    "    date = date.replace('(',\"\").replace(')',\"\")\n",
    "    house_accuracy = soup.find('div', class_='best-props__accuracy').text\n",
    "    table_data = table.tbody.find_all('tr')\n",
    "    for tr in table_data:\n",
    "        data_str.append(tr.text.replace('\\n', ' ').strip())\n",
    "    for i in data_str:\n",
    "        li = list(i.split('            '))\n",
    "        data.append(li)\n",
    "    for i in data:\n",
    "        if len(i) == 7:\n",
    "            i.append('TBD')\n",
    "            i.append(date)\n",
    "            i.append(house_accuracy)\n",
    "        else:\n",
    "            i.append(date)\n",
    "            i.append(house_accuracy)\n",
    "    global final_df\n",
    "    final_df = pd.concat([final_df, pd.DataFrame(data)])\n",
    "    time.sleep(1)\n",
    "\n",
    "    try:\n",
    "        page_progress = driver.find_element_by_xpath('//div[contains(@class, \"table__pagination\")]').text.strip(\"«\").strip(\"»\").strip()\n",
    "        if int(page_progress[5]) == int(page_progress[10]):\n",
    "            return final_df\n",
    "        else:\n",
    "            element = driver.find_element_by_xpath('/html/body/div[2]/main/div/div/div/div[4]/div/div/a[2]')\n",
    "            action = ActionChains(driver)\n",
    "            action.move_to_element(element).click().perform()\n",
    "            time.sleep(3)\n",
    "            get_data_rb()\n",
    "    except:\n",
    "        return final_df"
   ]
  },
  {
   "cell_type": "code",
   "execution_count": 12,
   "metadata": {},
   "outputs": [],
   "source": [
    "final_df = pd.DataFrame()"
   ]
  },
  {
   "cell_type": "code",
   "execution_count": 13,
   "metadata": {},
   "outputs": [],
   "source": [
    "for i in date_list:\n",
    "    get_site_rb(i)"
   ]
  },
  {
   "cell_type": "code",
   "execution_count": 14,
   "metadata": {},
   "outputs": [],
   "source": [
    "driver.close()"
   ]
  },
  {
   "cell_type": "code",
   "execution_count": 15,
   "metadata": {},
   "outputs": [
    {
     "data": {
      "text/html": [
       "<div>\n",
       "<style scoped>\n",
       "    .dataframe tbody tr th:only-of-type {\n",
       "        vertical-align: middle;\n",
       "    }\n",
       "\n",
       "    .dataframe tbody tr th {\n",
       "        vertical-align: top;\n",
       "    }\n",
       "\n",
       "    .dataframe thead th {\n",
       "        text-align: right;\n",
       "    }\n",
       "</style>\n",
       "<table border=\"1\" class=\"dataframe\">\n",
       "  <thead>\n",
       "    <tr style=\"text-align: right;\">\n",
       "      <th></th>\n",
       "      <th>0</th>\n",
       "      <th>1</th>\n",
       "      <th>2</th>\n",
       "      <th>3</th>\n",
       "      <th>4</th>\n",
       "      <th>5</th>\n",
       "      <th>6</th>\n",
       "      <th>7</th>\n",
       "      <th>8</th>\n",
       "      <th>9</th>\n",
       "    </tr>\n",
       "  </thead>\n",
       "  <tbody>\n",
       "    <tr>\n",
       "      <th>0</th>\n",
       "      <td>1 A. Aaron  Gordon</td>\n",
       "      <td>DEN - F</td>\n",
       "      <td>vs. MIN</td>\n",
       "      <td>Points</td>\n",
       "      <td>15.50 (-115)7.00Diff: -8.50 Line: 15.50...</td>\n",
       "      <td>15.5</td>\n",
       "      <td>-115     TBD</td>\n",
       "      <td>TBD</td>\n",
       "      <td>04-01-2022</td>\n",
       "      <td>Last 7 days Top 15  Accuracy: 41-61 (40%)  Sea...</td>\n",
       "    </tr>\n",
       "    <tr>\n",
       "      <th>1</th>\n",
       "      <td>2 T. Terance  Mann</td>\n",
       "      <td>LAC - G</td>\n",
       "      <td>@ MIL</td>\n",
       "      <td>Points</td>\n",
       "      <td>16.50 (-127)8.60Diff: -7.90 Line: 16.50...</td>\n",
       "      <td>16.5</td>\n",
       "      <td>-127     TBD</td>\n",
       "      <td>TBD</td>\n",
       "      <td>04-01-2022</td>\n",
       "      <td>Last 7 days Top 15  Accuracy: 41-61 (40%)  Sea...</td>\n",
       "    </tr>\n",
       "    <tr>\n",
       "      <th>2</th>\n",
       "      <td>3 R. Robert  Covington</td>\n",
       "      <td>LAC - F</td>\n",
       "      <td>@ MIL</td>\n",
       "      <td>Points</td>\n",
       "      <td>11.50 (-115)4.70Diff: -6.80 Line: 11.50...</td>\n",
       "      <td>11.5</td>\n",
       "      <td>-115     TBD</td>\n",
       "      <td>TBD</td>\n",
       "      <td>04-01-2022</td>\n",
       "      <td>Last 7 days Top 15  Accuracy: 41-61 (40%)  Sea...</td>\n",
       "    </tr>\n",
       "    <tr>\n",
       "      <th>3</th>\n",
       "      <td>4 T. Theo  Maledon</td>\n",
       "      <td>OKC - G</td>\n",
       "      <td>vs. DET</td>\n",
       "      <td>Points</td>\n",
       "      <td>18.50 (-122)11.70Diff: -6.80 Line: 18.5...</td>\n",
       "      <td>18.5</td>\n",
       "      <td>-122     TBD</td>\n",
       "      <td>TBD</td>\n",
       "      <td>04-01-2022</td>\n",
       "      <td>Last 7 days Top 15  Accuracy: 41-61 (40%)  Sea...</td>\n",
       "    </tr>\n",
       "    <tr>\n",
       "      <th>4</th>\n",
       "      <td>5 L. Luke  Kennard</td>\n",
       "      <td>LAC - G</td>\n",
       "      <td>@ MIL</td>\n",
       "      <td>Points</td>\n",
       "      <td>16.50 (-103)9.90Diff: -6.60 Line: 16.50...</td>\n",
       "      <td>16.5</td>\n",
       "      <td>-103     TBD</td>\n",
       "      <td>TBD</td>\n",
       "      <td>04-01-2022</td>\n",
       "      <td>Last 7 days Top 15  Accuracy: 41-61 (40%)  Sea...</td>\n",
       "    </tr>\n",
       "    <tr>\n",
       "      <th>...</th>\n",
       "      <td>...</td>\n",
       "      <td>...</td>\n",
       "      <td>...</td>\n",
       "      <td>...</td>\n",
       "      <td>...</td>\n",
       "      <td>...</td>\n",
       "      <td>...</td>\n",
       "      <td>...</td>\n",
       "      <td>...</td>\n",
       "      <td>...</td>\n",
       "    </tr>\n",
       "    <tr>\n",
       "      <th>13</th>\n",
       "      <td>64 A. Ayo  Dosunmu</td>\n",
       "      <td>CHI - G</td>\n",
       "      <td>vs. LAC</td>\n",
       "      <td>Points</td>\n",
       "      <td>9.50 (+105)9.80Diff: 0.30 Line: 9.50 Co...</td>\n",
       "      <td>9.5</td>\n",
       "      <td>+105</td>\n",
       "      <td>8         (under)</td>\n",
       "      <td>03-31-2022</td>\n",
       "      <td>Last 7 days Top 15  Accuracy: 46-55 (46%)  Sea...</td>\n",
       "    </tr>\n",
       "    <tr>\n",
       "      <th>14</th>\n",
       "      <td>65 M. Marvin  Bagley III</td>\n",
       "      <td>DET - F</td>\n",
       "      <td>vs. PHI</td>\n",
       "      <td>Points</td>\n",
       "      <td>15.50 (-107)15.80Diff: 0.30 Line: 15.50...</td>\n",
       "      <td>15.5</td>\n",
       "      <td>-107</td>\n",
       "      <td>8         (under)</td>\n",
       "      <td>03-31-2022</td>\n",
       "      <td>Last 7 days Top 15  Accuracy: 46-55 (46%)  Sea...</td>\n",
       "    </tr>\n",
       "    <tr>\n",
       "      <th>15</th>\n",
       "      <td>66 R. Reggie  Jackson</td>\n",
       "      <td>LAC - G</td>\n",
       "      <td>@ CHI</td>\n",
       "      <td>Points</td>\n",
       "      <td>17.50 (EVEN)17.30Diff: -0.20 Line: 17.5...</td>\n",
       "      <td>17.5</td>\n",
       "      <td>EVEN</td>\n",
       "      <td>34         (over)</td>\n",
       "      <td>03-31-2022</td>\n",
       "      <td>Last 7 days Top 15  Accuracy: 46-55 (46%)  Sea...</td>\n",
       "    </tr>\n",
       "    <tr>\n",
       "      <th>16</th>\n",
       "      <td>67 B. Bruce  Brown Jr.</td>\n",
       "      <td>BKN - G</td>\n",
       "      <td>vs. MIL</td>\n",
       "      <td>Points</td>\n",
       "      <td>9.50 (EVEN)9.30Diff: -0.20 Line: 9.50 C...</td>\n",
       "      <td>9.5</td>\n",
       "      <td>EVEN</td>\n",
       "      <td>23         (over)</td>\n",
       "      <td>03-31-2022</td>\n",
       "      <td>Last 7 days Top 15  Accuracy: 46-55 (46%)  Sea...</td>\n",
       "    </tr>\n",
       "    <tr>\n",
       "      <th>17</th>\n",
       "      <td>68 G. Georges  Niang</td>\n",
       "      <td>PHI - F</td>\n",
       "      <td>@ DET</td>\n",
       "      <td>Points</td>\n",
       "      <td>7.50 (-130)7.40Diff: -0.10 Line: 7.50 C...</td>\n",
       "      <td>7.5</td>\n",
       "      <td>-130</td>\n",
       "      <td>3         (under)</td>\n",
       "      <td>03-31-2022</td>\n",
       "      <td>Last 7 days Top 15  Accuracy: 46-55 (46%)  Sea...</td>\n",
       "    </tr>\n",
       "  </tbody>\n",
       "</table>\n",
       "<p>153 rows × 10 columns</p>\n",
       "</div>"
      ],
      "text/plain": [
       "                           0        1        2                3  \\\n",
       "0         1 A. Aaron  Gordon  DEN - F  vs. MIN           Points   \n",
       "1         2 T. Terance  Mann  LAC - G    @ MIL           Points   \n",
       "2     3 R. Robert  Covington  LAC - F    @ MIL           Points   \n",
       "3         4 T. Theo  Maledon  OKC - G  vs. DET           Points   \n",
       "4         5 L. Luke  Kennard  LAC - G    @ MIL           Points   \n",
       "..                       ...      ...      ...              ...   \n",
       "13        64 A. Ayo  Dosunmu  CHI - G  vs. LAC           Points   \n",
       "14  65 M. Marvin  Bagley III  DET - F  vs. PHI           Points   \n",
       "15     66 R. Reggie  Jackson  LAC - G    @ CHI           Points   \n",
       "16    67 B. Bruce  Brown Jr.  BKN - G  vs. MIL           Points   \n",
       "17      68 G. Georges  Niang  PHI - F    @ DET           Points   \n",
       "\n",
       "                                                    4           5  \\\n",
       "0          15.50 (-115)7.00Diff: -8.50 Line: 15.50...        15.5   \n",
       "1          16.50 (-127)8.60Diff: -7.90 Line: 16.50...        16.5   \n",
       "2          11.50 (-115)4.70Diff: -6.80 Line: 11.50...        11.5   \n",
       "3          18.50 (-122)11.70Diff: -6.80 Line: 18.5...        18.5   \n",
       "4          16.50 (-103)9.90Diff: -6.60 Line: 16.50...        16.5   \n",
       "..                                                ...         ...   \n",
       "13         9.50 (+105)9.80Diff: 0.30 Line: 9.50 Co...         9.5   \n",
       "14         15.50 (-107)15.80Diff: 0.30 Line: 15.50...        15.5   \n",
       "15         17.50 (EVEN)17.30Diff: -0.20 Line: 17.5...        17.5   \n",
       "16         9.50 (EVEN)9.30Diff: -0.20 Line: 9.50 C...         9.5   \n",
       "17         7.50 (-130)7.40Diff: -0.10 Line: 7.50 C...         7.5   \n",
       "\n",
       "                 6                     7           8  \\\n",
       "0     -115     TBD                   TBD  04-01-2022   \n",
       "1     -127     TBD                   TBD  04-01-2022   \n",
       "2     -115     TBD                   TBD  04-01-2022   \n",
       "3     -122     TBD                   TBD  04-01-2022   \n",
       "4     -103     TBD                   TBD  04-01-2022   \n",
       "..             ...                   ...         ...   \n",
       "13            +105     8         (under)  03-31-2022   \n",
       "14            -107     8         (under)  03-31-2022   \n",
       "15            EVEN     34         (over)  03-31-2022   \n",
       "16            EVEN     23         (over)  03-31-2022   \n",
       "17            -130     3         (under)  03-31-2022   \n",
       "\n",
       "                                                    9  \n",
       "0   Last 7 days Top 15  Accuracy: 41-61 (40%)  Sea...  \n",
       "1   Last 7 days Top 15  Accuracy: 41-61 (40%)  Sea...  \n",
       "2   Last 7 days Top 15  Accuracy: 41-61 (40%)  Sea...  \n",
       "3   Last 7 days Top 15  Accuracy: 41-61 (40%)  Sea...  \n",
       "4   Last 7 days Top 15  Accuracy: 41-61 (40%)  Sea...  \n",
       "..                                                ...  \n",
       "13  Last 7 days Top 15  Accuracy: 46-55 (46%)  Sea...  \n",
       "14  Last 7 days Top 15  Accuracy: 46-55 (46%)  Sea...  \n",
       "15  Last 7 days Top 15  Accuracy: 46-55 (46%)  Sea...  \n",
       "16  Last 7 days Top 15  Accuracy: 46-55 (46%)  Sea...  \n",
       "17  Last 7 days Top 15  Accuracy: 46-55 (46%)  Sea...  \n",
       "\n",
       "[153 rows x 10 columns]"
      ]
     },
     "execution_count": 15,
     "metadata": {},
     "output_type": "execute_result"
    }
   ],
   "source": [
    "final_df"
   ]
  },
  {
   "cell_type": "code",
   "execution_count": 16,
   "id": "9068352b",
   "metadata": {
    "scrolled": true
   },
   "outputs": [],
   "source": [
    "#Clean up below\n",
    "final_df.columns=['Name', 'Team', 'Opp', 'Type', 'Line', 'Pick', 'Moneyline', 'Result', 'Date', 'Accuracy']"
   ]
  },
  {
   "cell_type": "code",
   "execution_count": 17,
   "metadata": {},
   "outputs": [],
   "source": [
    "final_df.reset_index(drop=True, inplace=True)"
   ]
  },
  {
   "cell_type": "code",
   "execution_count": 18,
   "id": "73d1cf4b",
   "metadata": {
    "scrolled": true
   },
   "outputs": [],
   "source": [
    "player_name = final_df.Name.str.split(\" \", expand = True)\n",
    "final_df['Name'] = player_name[2] + ' ' + player_name[4]"
   ]
  },
  {
   "cell_type": "code",
   "execution_count": 19,
   "id": "38cbb683",
   "metadata": {
    "scrolled": true
   },
   "outputs": [],
   "source": [
    "team = final_df.Team.str.split(\" \", expand = True)\n",
    "final_df['Team'] = team[0]\n",
    "final_df['Position'] = team[2]"
   ]
  },
  {
   "cell_type": "code",
   "execution_count": 20,
   "id": "d694206e",
   "metadata": {
    "scrolled": true
   },
   "outputs": [],
   "source": [
    "opp = final_df.Opp.str.split(\" \", expand = True)\n",
    "final_df.Opp = opp[1]\n",
    "final_df['Home/Away'] = opp[0]"
   ]
  },
  {
   "cell_type": "code",
   "execution_count": 21,
   "id": "9a357447",
   "metadata": {
    "scrolled": true
   },
   "outputs": [],
   "source": [
    "bet_info = final_df.Line.str.split(\" \", expand = True)\n",
    "final_df['Line'] = bet_info[7]\n",
    "final_df['Projection'] = bet_info[15]\n",
    "final_df['Diff'] = bet_info[9]\n",
    "final_df['Moneyline'] = bet_info[13]\n",
    "final_df['over_under'] = bet_info[16]\n",
    "final_df['over_under'] = final_df['over_under'].fillna('o')"
   ]
  },
  {
   "cell_type": "code",
   "execution_count": 22,
   "id": "bd585653",
   "metadata": {
    "scrolled": true
   },
   "outputs": [],
   "source": [
    "final_df = final_df[['Date', 'Name', 'Team', 'Position', 'Opp','Home/Away', 'Line', 'Moneyline', 'Projection', 'Diff', 'Pick', 'Result', 'Accuracy', 'over_under']]"
   ]
  },
  {
   "cell_type": "code",
   "execution_count": 23,
   "id": "4c0b6c72",
   "metadata": {},
   "outputs": [],
   "source": [
    "final_df = final_df.copy()"
   ]
  },
  {
   "cell_type": "code",
   "execution_count": 24,
   "id": "65d9900b",
   "metadata": {
    "scrolled": true
   },
   "outputs": [],
   "source": [
    "final_df['Projection'] = final_df['Projection'].map(lambda x: x.rstrip('ou'))"
   ]
  },
  {
   "cell_type": "code",
   "execution_count": 25,
   "id": "f8e20d1c",
   "metadata": {
    "scrolled": true
   },
   "outputs": [],
   "source": [
    "accuracies = final_df.Accuracy.str.split(\" \", expand = True)"
   ]
  },
  {
   "cell_type": "code",
   "execution_count": 26,
   "id": "b0672ae5",
   "metadata": {
    "scrolled": false
   },
   "outputs": [],
   "source": [
    "final_df['seven_day_accuracy'] = accuracies[8]"
   ]
  },
  {
   "cell_type": "code",
   "execution_count": 27,
   "id": "f4e1a8e9",
   "metadata": {
    "scrolled": true
   },
   "outputs": [],
   "source": [
    "final_df.seven_day_accuracy = final_df.seven_day_accuracy.replace('', 50, regex=True)"
   ]
  },
  {
   "cell_type": "code",
   "execution_count": 28,
   "id": "14816398",
   "metadata": {
    "scrolled": false
   },
   "outputs": [],
   "source": [
    "final_df['seven_day_accuracy'] = final_df['seven_day_accuracy'].map(lambda x: x.lstrip('(').rstrip('%)'))"
   ]
  },
  {
   "cell_type": "code",
   "execution_count": 29,
   "id": "e610cba1",
   "metadata": {
    "scrolled": true
   },
   "outputs": [],
   "source": [
    "final_df['seven_day_accuracy'] = pd.to_numeric(final_df['seven_day_accuracy'])"
   ]
  },
  {
   "cell_type": "code",
   "execution_count": 30,
   "id": "31b410a9",
   "metadata": {
    "scrolled": false
   },
   "outputs": [],
   "source": [
    "final_df['seven_day_accuracy'] = final_df['seven_day_accuracy'].map(lambda x: x/100)"
   ]
  },
  {
   "cell_type": "code",
   "execution_count": 31,
   "id": "ab5074ca",
   "metadata": {
    "scrolled": true
   },
   "outputs": [],
   "source": [
    "final_df.drop(columns=['Accuracy'], inplace=True)"
   ]
  },
  {
   "cell_type": "code",
   "execution_count": 32,
   "id": "7ce36d3b",
   "metadata": {},
   "outputs": [],
   "source": [
    "final_df['Date'] = pd.to_datetime(final_df['Date'])"
   ]
  },
  {
   "cell_type": "code",
   "execution_count": 33,
   "id": "455441a4",
   "metadata": {
    "scrolled": true
   },
   "outputs": [],
   "source": [
    "# Final form betting df, additional cleaning and saving to csv below\n",
    "sorted_df = final_df.sort_values(by=['Name', 'Date'])\n",
    "sorted_df.reset_index(inplace=True, drop=True)"
   ]
  },
  {
   "cell_type": "code",
   "execution_count": 34,
   "id": "e42b4a0c",
   "metadata": {
    "scrolled": true
   },
   "outputs": [],
   "source": [
    "sorted_df['Line'] = pd.to_numeric(sorted_df.Line)"
   ]
  },
  {
   "cell_type": "code",
   "execution_count": 35,
   "id": "f25158a9",
   "metadata": {
    "scrolled": true
   },
   "outputs": [],
   "source": [
    "sorted_df = sorted_df.replace('EVEN', '+100')"
   ]
  },
  {
   "cell_type": "code",
   "execution_count": 36,
   "id": "da39c6be",
   "metadata": {
    "scrolled": true
   },
   "outputs": [],
   "source": [
    "sorted_df['Moneyline'] = pd.to_numeric(sorted_df.Moneyline)"
   ]
  },
  {
   "cell_type": "code",
   "execution_count": 37,
   "id": "5158b498",
   "metadata": {},
   "outputs": [],
   "source": [
    "sorted_df['Result'] = sorted_df.Result.apply(lambda x: str(x))"
   ]
  },
  {
   "cell_type": "code",
   "execution_count": 38,
   "id": "45b053d0",
   "metadata": {},
   "outputs": [],
   "source": [
    "results = sorted_df.Result.str.split(' ', expand=True);"
   ]
  },
  {
   "cell_type": "code",
   "execution_count": 39,
   "id": "7a45859e",
   "metadata": {},
   "outputs": [],
   "source": [
    "try:\n",
    "    sorted_df.Result = results[3]\n",
    "except:\n",
    "    sorted_df.Result = results[0]"
   ]
  },
  {
   "cell_type": "code",
   "execution_count": 40,
   "metadata": {},
   "outputs": [],
   "source": [
    "sorted_df = sorted_df.replace('TBD', None)"
   ]
  },
  {
   "cell_type": "code",
   "execution_count": 41,
   "id": "bd77c572",
   "metadata": {
    "scrolled": true
   },
   "outputs": [],
   "source": [
    "sorted_df['Projection'] = pd.to_numeric(sorted_df.Projection)\n",
    "sorted_df['Diff'] = pd.to_numeric(sorted_df.Diff)\n",
    "sorted_df['Result'] = pd.to_numeric(sorted_df.Result)\n",
    "sorted_df['Pick'] = pd.to_numeric(sorted_df.Pick)"
   ]
  },
  {
   "cell_type": "code",
   "execution_count": 42,
   "id": "8d9abb2e",
   "metadata": {
    "scrolled": true
   },
   "outputs": [],
   "source": [
    "# Determine if website pick was a win or loss (for fun, potential spinoff angle).\n",
    "conditions = [\n",
    "    ((sorted_df['Result'] < sorted_df['Pick']) & (sorted_df['over_under'] == 'u')),\n",
    "    ((sorted_df['Result'] < sorted_df['Pick']) & (sorted_df['over_under'] == 'o')),\n",
    "    ((sorted_df['Result'] > sorted_df['Pick']) & (sorted_df['over_under'] =='o')),\n",
    "    ((sorted_df['Result'] > sorted_df['Pick']) & (sorted_df['over_under'] == 'u')),\n",
    "    (sorted_df['Result'].isna() == True)\n",
    "    ]\n",
    "\n",
    "# create a list of the values we want to assign for each condition\n",
    "values = ['1', '0', '1', '0', np.nan]\n",
    "\n",
    "# create a new column and use np.select to assign values to it using our lists as arguments\n",
    "sorted_df['successful_pick'] = np.select(conditions, values)"
   ]
  },
  {
   "cell_type": "code",
   "execution_count": 43,
   "metadata": {},
   "outputs": [
    {
     "data": {
      "text/html": [
       "<div>\n",
       "<style scoped>\n",
       "    .dataframe tbody tr th:only-of-type {\n",
       "        vertical-align: middle;\n",
       "    }\n",
       "\n",
       "    .dataframe tbody tr th {\n",
       "        vertical-align: top;\n",
       "    }\n",
       "\n",
       "    .dataframe thead th {\n",
       "        text-align: right;\n",
       "    }\n",
       "</style>\n",
       "<table border=\"1\" class=\"dataframe\">\n",
       "  <thead>\n",
       "    <tr style=\"text-align: right;\">\n",
       "      <th></th>\n",
       "      <th>Date</th>\n",
       "      <th>Name</th>\n",
       "      <th>Team</th>\n",
       "      <th>Position</th>\n",
       "      <th>Opp</th>\n",
       "      <th>Home/Away</th>\n",
       "      <th>Line</th>\n",
       "      <th>Moneyline</th>\n",
       "      <th>Projection</th>\n",
       "      <th>Diff</th>\n",
       "      <th>Pick</th>\n",
       "      <th>Result</th>\n",
       "      <th>over_under</th>\n",
       "      <th>seven_day_accuracy</th>\n",
       "      <th>successful_pick</th>\n",
       "    </tr>\n",
       "  </thead>\n",
       "  <tbody>\n",
       "    <tr>\n",
       "      <th>0</th>\n",
       "      <td>2022-03-31</td>\n",
       "      <td>Bogdan</td>\n",
       "      <td>ATL</td>\n",
       "      <td>G</td>\n",
       "      <td>CLE</td>\n",
       "      <td>vs.</td>\n",
       "      <td>16.5</td>\n",
       "      <td>-115</td>\n",
       "      <td>14.8</td>\n",
       "      <td>-1.7</td>\n",
       "      <td>16.5</td>\n",
       "      <td>11.0</td>\n",
       "      <td>u</td>\n",
       "      <td>0.46</td>\n",
       "      <td>1</td>\n",
       "    </tr>\n",
       "    <tr>\n",
       "      <th>1</th>\n",
       "      <td>2022-04-01</td>\n",
       "      <td>Aaron Gordon</td>\n",
       "      <td>DEN</td>\n",
       "      <td>F</td>\n",
       "      <td>MIN</td>\n",
       "      <td>vs.</td>\n",
       "      <td>15.5</td>\n",
       "      <td>-115</td>\n",
       "      <td>7.0</td>\n",
       "      <td>-8.5</td>\n",
       "      <td>15.5</td>\n",
       "      <td>NaN</td>\n",
       "      <td>u</td>\n",
       "      <td>0.40</td>\n",
       "      <td>nan</td>\n",
       "    </tr>\n",
       "    <tr>\n",
       "      <th>2</th>\n",
       "      <td>2022-04-01</td>\n",
       "      <td>Aaron Wiggins</td>\n",
       "      <td>OKC</td>\n",
       "      <td>G</td>\n",
       "      <td>DET</td>\n",
       "      <td>vs.</td>\n",
       "      <td>14.5</td>\n",
       "      <td>-106</td>\n",
       "      <td>11.2</td>\n",
       "      <td>-3.3</td>\n",
       "      <td>14.5</td>\n",
       "      <td>NaN</td>\n",
       "      <td>u</td>\n",
       "      <td>0.40</td>\n",
       "      <td>nan</td>\n",
       "    </tr>\n",
       "    <tr>\n",
       "      <th>3</th>\n",
       "      <td>2022-04-01</td>\n",
       "      <td>Al Horford</td>\n",
       "      <td>BOS</td>\n",
       "      <td>C</td>\n",
       "      <td>IND</td>\n",
       "      <td>vs.</td>\n",
       "      <td>9.5</td>\n",
       "      <td>-115</td>\n",
       "      <td>12.2</td>\n",
       "      <td>2.7</td>\n",
       "      <td>9.5</td>\n",
       "      <td>NaN</td>\n",
       "      <td>o</td>\n",
       "      <td>0.40</td>\n",
       "      <td>nan</td>\n",
       "    </tr>\n",
       "    <tr>\n",
       "      <th>4</th>\n",
       "      <td>2022-04-01</td>\n",
       "      <td>Aleksej Pokusevski</td>\n",
       "      <td>OKC</td>\n",
       "      <td>C</td>\n",
       "      <td>DET</td>\n",
       "      <td>vs.</td>\n",
       "      <td>15.5</td>\n",
       "      <td>-149</td>\n",
       "      <td>14.2</td>\n",
       "      <td>-1.3</td>\n",
       "      <td>15.5</td>\n",
       "      <td>NaN</td>\n",
       "      <td>u</td>\n",
       "      <td>0.40</td>\n",
       "      <td>nan</td>\n",
       "    </tr>\n",
       "    <tr>\n",
       "      <th>...</th>\n",
       "      <td>...</td>\n",
       "      <td>...</td>\n",
       "      <td>...</td>\n",
       "      <td>...</td>\n",
       "      <td>...</td>\n",
       "      <td>...</td>\n",
       "      <td>...</td>\n",
       "      <td>...</td>\n",
       "      <td>...</td>\n",
       "      <td>...</td>\n",
       "      <td>...</td>\n",
       "      <td>...</td>\n",
       "      <td>...</td>\n",
       "      <td>...</td>\n",
       "      <td>...</td>\n",
       "    </tr>\n",
       "    <tr>\n",
       "      <th>148</th>\n",
       "      <td>2022-03-31</td>\n",
       "      <td>Tyrese Maxey</td>\n",
       "      <td>PHI</td>\n",
       "      <td>G</td>\n",
       "      <td>DET</td>\n",
       "      <td>@</td>\n",
       "      <td>16.5</td>\n",
       "      <td>-113</td>\n",
       "      <td>18.8</td>\n",
       "      <td>2.3</td>\n",
       "      <td>16.5</td>\n",
       "      <td>13.0</td>\n",
       "      <td>o</td>\n",
       "      <td>0.46</td>\n",
       "      <td>0</td>\n",
       "    </tr>\n",
       "    <tr>\n",
       "      <th>149</th>\n",
       "      <td>2022-03-31</td>\n",
       "      <td>Wesley Matthews</td>\n",
       "      <td>MIL</td>\n",
       "      <td>G</td>\n",
       "      <td>BKN</td>\n",
       "      <td>@</td>\n",
       "      <td>5.5</td>\n",
       "      <td>-115</td>\n",
       "      <td>5.1</td>\n",
       "      <td>-0.4</td>\n",
       "      <td>5.5</td>\n",
       "      <td>11.0</td>\n",
       "      <td>u</td>\n",
       "      <td>0.46</td>\n",
       "      <td>0</td>\n",
       "    </tr>\n",
       "    <tr>\n",
       "      <th>150</th>\n",
       "      <td>2022-04-01</td>\n",
       "      <td>Will Barton</td>\n",
       "      <td>DEN</td>\n",
       "      <td>G</td>\n",
       "      <td>MIN</td>\n",
       "      <td>vs.</td>\n",
       "      <td>15.5</td>\n",
       "      <td>-113</td>\n",
       "      <td>16.1</td>\n",
       "      <td>0.6</td>\n",
       "      <td>15.5</td>\n",
       "      <td>NaN</td>\n",
       "      <td>o</td>\n",
       "      <td>0.40</td>\n",
       "      <td>nan</td>\n",
       "    </tr>\n",
       "    <tr>\n",
       "      <th>151</th>\n",
       "      <td>2022-04-01</td>\n",
       "      <td>Zach Collins</td>\n",
       "      <td>SAS</td>\n",
       "      <td>F</td>\n",
       "      <td>POR</td>\n",
       "      <td>vs.</td>\n",
       "      <td>7.5</td>\n",
       "      <td>105</td>\n",
       "      <td>6.3</td>\n",
       "      <td>-1.2</td>\n",
       "      <td>7.5</td>\n",
       "      <td>NaN</td>\n",
       "      <td>u</td>\n",
       "      <td>0.40</td>\n",
       "      <td>nan</td>\n",
       "    </tr>\n",
       "    <tr>\n",
       "      <th>152</th>\n",
       "      <td>2022-03-31</td>\n",
       "      <td>Zach LaVine</td>\n",
       "      <td>CHI</td>\n",
       "      <td>G</td>\n",
       "      <td>LAC</td>\n",
       "      <td>vs.</td>\n",
       "      <td>22.5</td>\n",
       "      <td>-115</td>\n",
       "      <td>24.5</td>\n",
       "      <td>2.0</td>\n",
       "      <td>22.5</td>\n",
       "      <td>21.0</td>\n",
       "      <td>o</td>\n",
       "      <td>0.46</td>\n",
       "      <td>0</td>\n",
       "    </tr>\n",
       "  </tbody>\n",
       "</table>\n",
       "<p>153 rows × 15 columns</p>\n",
       "</div>"
      ],
      "text/plain": [
       "          Date                Name Team Position  Opp Home/Away  Line  \\\n",
       "0   2022-03-31              Bogdan  ATL        G  CLE       vs.  16.5   \n",
       "1   2022-04-01        Aaron Gordon  DEN        F  MIN       vs.  15.5   \n",
       "2   2022-04-01       Aaron Wiggins  OKC        G  DET       vs.  14.5   \n",
       "3   2022-04-01          Al Horford  BOS        C  IND       vs.   9.5   \n",
       "4   2022-04-01  Aleksej Pokusevski  OKC        C  DET       vs.  15.5   \n",
       "..         ...                 ...  ...      ...  ...       ...   ...   \n",
       "148 2022-03-31        Tyrese Maxey  PHI        G  DET         @  16.5   \n",
       "149 2022-03-31     Wesley Matthews  MIL        G  BKN         @   5.5   \n",
       "150 2022-04-01         Will Barton  DEN        G  MIN       vs.  15.5   \n",
       "151 2022-04-01        Zach Collins  SAS        F  POR       vs.   7.5   \n",
       "152 2022-03-31         Zach LaVine  CHI        G  LAC       vs.  22.5   \n",
       "\n",
       "     Moneyline  Projection  Diff  Pick  Result over_under  seven_day_accuracy  \\\n",
       "0         -115        14.8  -1.7  16.5    11.0          u                0.46   \n",
       "1         -115         7.0  -8.5  15.5     NaN          u                0.40   \n",
       "2         -106        11.2  -3.3  14.5     NaN          u                0.40   \n",
       "3         -115        12.2   2.7   9.5     NaN          o                0.40   \n",
       "4         -149        14.2  -1.3  15.5     NaN          u                0.40   \n",
       "..         ...         ...   ...   ...     ...        ...                 ...   \n",
       "148       -113        18.8   2.3  16.5    13.0          o                0.46   \n",
       "149       -115         5.1  -0.4   5.5    11.0          u                0.46   \n",
       "150       -113        16.1   0.6  15.5     NaN          o                0.40   \n",
       "151        105         6.3  -1.2   7.5     NaN          u                0.40   \n",
       "152       -115        24.5   2.0  22.5    21.0          o                0.46   \n",
       "\n",
       "    successful_pick  \n",
       "0                 1  \n",
       "1               nan  \n",
       "2               nan  \n",
       "3               nan  \n",
       "4               nan  \n",
       "..              ...  \n",
       "148               0  \n",
       "149               0  \n",
       "150             nan  \n",
       "151             nan  \n",
       "152               0  \n",
       "\n",
       "[153 rows x 15 columns]"
      ]
     },
     "execution_count": 43,
     "metadata": {},
     "output_type": "execute_result"
    }
   ],
   "source": [
    "sorted_df"
   ]
  },
  {
   "cell_type": "code",
   "execution_count": null,
   "metadata": {},
   "outputs": [],
   "source": []
  }
 ],
 "metadata": {
  "interpreter": {
   "hash": "5e7caf9a0330a0431ece04fbb5ae0c2702e926a952f28ce7bb1847c9f40f39fc"
  },
  "kernelspec": {
   "display_name": "Python 3.8.12 ('engineering')",
   "language": "python",
   "name": "python3"
  },
  "language_info": {
   "codemirror_mode": {
    "name": "ipython",
    "version": 3
   },
   "file_extension": ".py",
   "mimetype": "text/x-python",
   "name": "python",
   "nbconvert_exporter": "python",
   "pygments_lexer": "ipython3",
   "version": "3.8.12"
  },
  "orig_nbformat": 4
 },
 "nbformat": 4,
 "nbformat_minor": 2
}
