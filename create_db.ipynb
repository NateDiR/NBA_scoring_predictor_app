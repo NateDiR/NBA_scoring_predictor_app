{
 "cells": [
  {
   "cell_type": "code",
   "execution_count": 1,
   "metadata": {},
   "outputs": [],
   "source": [
    "%reset -fs"
   ]
  },
  {
   "cell_type": "code",
   "execution_count": 2,
   "metadata": {},
   "outputs": [],
   "source": [
    "from pymongo import MongoClient\n",
    "import pandas as pd\n",
    "from datetime import datetime"
   ]
  },
  {
   "cell_type": "code",
   "execution_count": 3,
   "metadata": {},
   "outputs": [],
   "source": [
    "client = MongoClient()"
   ]
  },
  {
   "cell_type": "code",
   "execution_count": 4,
   "metadata": {},
   "outputs": [
    {
     "data": {
      "text/html": [
       "<div>\n",
       "<style scoped>\n",
       "    .dataframe tbody tr th:only-of-type {\n",
       "        vertical-align: middle;\n",
       "    }\n",
       "\n",
       "    .dataframe tbody tr th {\n",
       "        vertical-align: top;\n",
       "    }\n",
       "\n",
       "    .dataframe thead th {\n",
       "        text-align: right;\n",
       "    }\n",
       "</style>\n",
       "<table border=\"1\" class=\"dataframe\">\n",
       "  <thead>\n",
       "    <tr style=\"text-align: right;\">\n",
       "      <th></th>\n",
       "      <th>Date</th>\n",
       "      <th>Name</th>\n",
       "      <th>Team</th>\n",
       "      <th>Position</th>\n",
       "      <th>Opp</th>\n",
       "      <th>Home/Away</th>\n",
       "      <th>Line</th>\n",
       "      <th>Moneyline</th>\n",
       "      <th>Projection</th>\n",
       "      <th>Diff</th>\n",
       "      <th>Pick</th>\n",
       "      <th>Result</th>\n",
       "      <th>over_under</th>\n",
       "      <th>seven_day_accuracy</th>\n",
       "      <th>successful_pick</th>\n",
       "    </tr>\n",
       "  </thead>\n",
       "  <tbody>\n",
       "    <tr>\n",
       "      <th>0</th>\n",
       "      <td>2021-10-21</td>\n",
       "      <td>Bogdan</td>\n",
       "      <td>ATL</td>\n",
       "      <td>G</td>\n",
       "      <td>DAL</td>\n",
       "      <td>vs.</td>\n",
       "      <td>15.5</td>\n",
       "      <td>-115</td>\n",
       "      <td>16.57</td>\n",
       "      <td>1.07</td>\n",
       "      <td>15.5</td>\n",
       "      <td>NaN</td>\n",
       "      <td>o</td>\n",
       "      <td>0.47</td>\n",
       "      <td>0</td>\n",
       "    </tr>\n",
       "    <tr>\n",
       "      <th>1</th>\n",
       "      <td>2021-10-23</td>\n",
       "      <td>Bogdan</td>\n",
       "      <td>ATL</td>\n",
       "      <td>G</td>\n",
       "      <td>CLE</td>\n",
       "      <td>@</td>\n",
       "      <td>14.5</td>\n",
       "      <td>-115</td>\n",
       "      <td>15.29</td>\n",
       "      <td>0.79</td>\n",
       "      <td>14.5</td>\n",
       "      <td>NaN</td>\n",
       "      <td>o</td>\n",
       "      <td>0.45</td>\n",
       "      <td>0</td>\n",
       "    </tr>\n",
       "    <tr>\n",
       "      <th>2</th>\n",
       "      <td>2021-10-25</td>\n",
       "      <td>Bogdan</td>\n",
       "      <td>ATL</td>\n",
       "      <td>G</td>\n",
       "      <td>DET</td>\n",
       "      <td>vs.</td>\n",
       "      <td>15.5</td>\n",
       "      <td>-115</td>\n",
       "      <td>12.85</td>\n",
       "      <td>-2.65</td>\n",
       "      <td>15.5</td>\n",
       "      <td>NaN</td>\n",
       "      <td>u</td>\n",
       "      <td>0.45</td>\n",
       "      <td>0</td>\n",
       "    </tr>\n",
       "    <tr>\n",
       "      <th>3</th>\n",
       "      <td>2021-10-27</td>\n",
       "      <td>Bogdan</td>\n",
       "      <td>ATL</td>\n",
       "      <td>G</td>\n",
       "      <td>NOR</td>\n",
       "      <td>@</td>\n",
       "      <td>12.5</td>\n",
       "      <td>-125</td>\n",
       "      <td>13.70</td>\n",
       "      <td>1.20</td>\n",
       "      <td>12.5</td>\n",
       "      <td>NaN</td>\n",
       "      <td>o</td>\n",
       "      <td>0.45</td>\n",
       "      <td>0</td>\n",
       "    </tr>\n",
       "    <tr>\n",
       "      <th>4</th>\n",
       "      <td>2021-10-28</td>\n",
       "      <td>Bogdan</td>\n",
       "      <td>ATL</td>\n",
       "      <td>G</td>\n",
       "      <td>WAS</td>\n",
       "      <td>@</td>\n",
       "      <td>12.5</td>\n",
       "      <td>-105</td>\n",
       "      <td>16.72</td>\n",
       "      <td>4.22</td>\n",
       "      <td>12.5</td>\n",
       "      <td>NaN</td>\n",
       "      <td>o</td>\n",
       "      <td>0.42</td>\n",
       "      <td>0</td>\n",
       "    </tr>\n",
       "    <tr>\n",
       "      <th>...</th>\n",
       "      <td>...</td>\n",
       "      <td>...</td>\n",
       "      <td>...</td>\n",
       "      <td>...</td>\n",
       "      <td>...</td>\n",
       "      <td>...</td>\n",
       "      <td>...</td>\n",
       "      <td>...</td>\n",
       "      <td>...</td>\n",
       "      <td>...</td>\n",
       "      <td>...</td>\n",
       "      <td>...</td>\n",
       "      <td>...</td>\n",
       "      <td>...</td>\n",
       "      <td>...</td>\n",
       "    </tr>\n",
       "    <tr>\n",
       "      <th>14409</th>\n",
       "      <td>2022-03-08</td>\n",
       "      <td>Ziaire Williams</td>\n",
       "      <td>MEM</td>\n",
       "      <td>G</td>\n",
       "      <td>NOR</td>\n",
       "      <td>vs.</td>\n",
       "      <td>6.5</td>\n",
       "      <td>-110</td>\n",
       "      <td>7.30</td>\n",
       "      <td>0.80</td>\n",
       "      <td>6.5</td>\n",
       "      <td>NaN</td>\n",
       "      <td>o</td>\n",
       "      <td>0.46</td>\n",
       "      <td>0</td>\n",
       "    </tr>\n",
       "    <tr>\n",
       "      <th>14410</th>\n",
       "      <td>2022-03-11</td>\n",
       "      <td>Ziaire Williams</td>\n",
       "      <td>MEM</td>\n",
       "      <td>G</td>\n",
       "      <td>NYK</td>\n",
       "      <td>vs.</td>\n",
       "      <td>7.5</td>\n",
       "      <td>-115</td>\n",
       "      <td>7.30</td>\n",
       "      <td>-0.20</td>\n",
       "      <td>7.5</td>\n",
       "      <td>NaN</td>\n",
       "      <td>u</td>\n",
       "      <td>0.50</td>\n",
       "      <td>0</td>\n",
       "    </tr>\n",
       "    <tr>\n",
       "      <th>14411</th>\n",
       "      <td>2022-03-15</td>\n",
       "      <td>Ziaire Williams</td>\n",
       "      <td>MEM</td>\n",
       "      <td>G</td>\n",
       "      <td>IND</td>\n",
       "      <td>@</td>\n",
       "      <td>8.5</td>\n",
       "      <td>-130</td>\n",
       "      <td>7.60</td>\n",
       "      <td>-0.90</td>\n",
       "      <td>8.5</td>\n",
       "      <td>NaN</td>\n",
       "      <td>u</td>\n",
       "      <td>0.46</td>\n",
       "      <td>0</td>\n",
       "    </tr>\n",
       "    <tr>\n",
       "      <th>14412</th>\n",
       "      <td>2022-03-23</td>\n",
       "      <td>Ziaire Williams</td>\n",
       "      <td>MEM</td>\n",
       "      <td>G</td>\n",
       "      <td>BKN</td>\n",
       "      <td>vs.</td>\n",
       "      <td>7.5</td>\n",
       "      <td>-105</td>\n",
       "      <td>6.20</td>\n",
       "      <td>-1.30</td>\n",
       "      <td>7.5</td>\n",
       "      <td>NaN</td>\n",
       "      <td>u</td>\n",
       "      <td>0.46</td>\n",
       "      <td>0</td>\n",
       "    </tr>\n",
       "    <tr>\n",
       "      <th>14413</th>\n",
       "      <td>2022-03-24</td>\n",
       "      <td>Ziaire Williams</td>\n",
       "      <td>MEM</td>\n",
       "      <td>G</td>\n",
       "      <td>IND</td>\n",
       "      <td>vs.</td>\n",
       "      <td>11.5</td>\n",
       "      <td>-105</td>\n",
       "      <td>8.80</td>\n",
       "      <td>-2.70</td>\n",
       "      <td>11.5</td>\n",
       "      <td>NaN</td>\n",
       "      <td>u</td>\n",
       "      <td>0.42</td>\n",
       "      <td>0</td>\n",
       "    </tr>\n",
       "  </tbody>\n",
       "</table>\n",
       "<p>14414 rows × 15 columns</p>\n",
       "</div>"
      ],
      "text/plain": [
       "             Date             Name Team Position  Opp Home/Away  Line  \\\n",
       "0      2021-10-21           Bogdan  ATL        G  DAL       vs.  15.5   \n",
       "1      2021-10-23           Bogdan  ATL        G  CLE         @  14.5   \n",
       "2      2021-10-25           Bogdan  ATL        G  DET       vs.  15.5   \n",
       "3      2021-10-27           Bogdan  ATL        G  NOR         @  12.5   \n",
       "4      2021-10-28           Bogdan  ATL        G  WAS         @  12.5   \n",
       "...           ...              ...  ...      ...  ...       ...   ...   \n",
       "14409  2022-03-08  Ziaire Williams  MEM        G  NOR       vs.   6.5   \n",
       "14410  2022-03-11  Ziaire Williams  MEM        G  NYK       vs.   7.5   \n",
       "14411  2022-03-15  Ziaire Williams  MEM        G  IND         @   8.5   \n",
       "14412  2022-03-23  Ziaire Williams  MEM        G  BKN       vs.   7.5   \n",
       "14413  2022-03-24  Ziaire Williams  MEM        G  IND       vs.  11.5   \n",
       "\n",
       "       Moneyline  Projection  Diff  Pick  Result over_under  \\\n",
       "0           -115       16.57  1.07  15.5     NaN          o   \n",
       "1           -115       15.29  0.79  14.5     NaN          o   \n",
       "2           -115       12.85 -2.65  15.5     NaN          u   \n",
       "3           -125       13.70  1.20  12.5     NaN          o   \n",
       "4           -105       16.72  4.22  12.5     NaN          o   \n",
       "...          ...         ...   ...   ...     ...        ...   \n",
       "14409       -110        7.30  0.80   6.5     NaN          o   \n",
       "14410       -115        7.30 -0.20   7.5     NaN          u   \n",
       "14411       -130        7.60 -0.90   8.5     NaN          u   \n",
       "14412       -105        6.20 -1.30   7.5     NaN          u   \n",
       "14413       -105        8.80 -2.70  11.5     NaN          u   \n",
       "\n",
       "       seven_day_accuracy  successful_pick  \n",
       "0                    0.47                0  \n",
       "1                    0.45                0  \n",
       "2                    0.45                0  \n",
       "3                    0.45                0  \n",
       "4                    0.42                0  \n",
       "...                   ...              ...  \n",
       "14409                0.46                0  \n",
       "14410                0.50                0  \n",
       "14411                0.46                0  \n",
       "14412                0.46                0  \n",
       "14413                0.42                0  \n",
       "\n",
       "[14414 rows x 15 columns]"
      ]
     },
     "execution_count": 4,
     "metadata": {},
     "output_type": "execute_result"
    }
   ],
   "source": [
    "df = pd.read_csv('betting_data.csv', index_col=0)\n",
    "df"
   ]
  },
  {
   "cell_type": "code",
   "execution_count": 5,
   "metadata": {},
   "outputs": [],
   "source": [
    "\n",
    "max_date = max(df.Date)"
   ]
  },
  {
   "cell_type": "code",
   "execution_count": 6,
   "metadata": {},
   "outputs": [
    {
     "data": {
      "text/plain": [
       "'2022-03-30'"
      ]
     },
     "execution_count": 6,
     "metadata": {},
     "output_type": "execute_result"
    }
   ],
   "source": [
    "max_date"
   ]
  },
  {
   "cell_type": "code",
   "execution_count": 7,
   "metadata": {},
   "outputs": [
    {
     "data": {
      "text/plain": [
       "str"
      ]
     },
     "execution_count": 7,
     "metadata": {},
     "output_type": "execute_result"
    }
   ],
   "source": [
    "type(max_date)"
   ]
  },
  {
   "cell_type": "code",
   "execution_count": 8,
   "metadata": {},
   "outputs": [],
   "source": [
    "max_date = datetime.strptime(max_date, '%Y-%m-%d')"
   ]
  },
  {
   "cell_type": "code",
   "execution_count": 9,
   "metadata": {},
   "outputs": [
    {
     "data": {
      "text/plain": [
       "datetime.datetime(2022, 3, 30, 0, 0)"
      ]
     },
     "execution_count": 9,
     "metadata": {},
     "output_type": "execute_result"
    }
   ],
   "source": [
    "max_date"
   ]
  },
  {
   "cell_type": "code",
   "execution_count": 14,
   "metadata": {},
   "outputs": [],
   "source": [
    "today = datetime.today()"
   ]
  },
  {
   "cell_type": "code",
   "execution_count": 15,
   "metadata": {},
   "outputs": [
    {
     "data": {
      "text/plain": [
       "datetime.datetime(2022, 3, 30, 21, 52, 2, 538965)"
      ]
     },
     "execution_count": 15,
     "metadata": {},
     "output_type": "execute_result"
    }
   ],
   "source": [
    "today"
   ]
  },
  {
   "cell_type": "code",
   "execution_count": 16,
   "metadata": {},
   "outputs": [
    {
     "data": {
      "text/plain": [
       "datetime.timedelta(seconds=78722, microseconds=538965)"
      ]
     },
     "execution_count": 16,
     "metadata": {},
     "output_type": "execute_result"
    }
   ],
   "source": [
    "today - max_date"
   ]
  },
  {
   "cell_type": "code",
   "execution_count": 20,
   "metadata": {},
   "outputs": [],
   "source": [
    "range = pd.date_range(max_date, today)"
   ]
  },
  {
   "cell_type": "code",
   "execution_count": 21,
   "metadata": {},
   "outputs": [
    {
     "data": {
      "text/plain": [
       "DatetimeIndex(['2022-03-30'], dtype='datetime64[ns]', freq='D')"
      ]
     },
     "execution_count": 21,
     "metadata": {},
     "output_type": "execute_result"
    }
   ],
   "source": [
    "range"
   ]
  },
  {
   "cell_type": "code",
   "execution_count": 23,
   "metadata": {},
   "outputs": [
    {
     "data": {
      "text/plain": [
       "datetime.date(2022, 3, 30)"
      ]
     },
     "execution_count": 23,
     "metadata": {},
     "output_type": "execute_result"
    }
   ],
   "source": [
    "range[0].date()"
   ]
  },
  {
   "cell_type": "code",
   "execution_count": 24,
   "metadata": {},
   "outputs": [
    {
     "name": "stdout",
     "output_type": "stream",
     "text": [
      "2022-03-30\n"
     ]
    }
   ],
   "source": [
    "for i in range:\n",
    "    print(i.strftime('%Y-%m-%d'))"
   ]
  },
  {
   "cell_type": "code",
   "execution_count": null,
   "metadata": {},
   "outputs": [],
   "source": []
  }
 ],
 "metadata": {
  "interpreter": {
   "hash": "5e7caf9a0330a0431ece04fbb5ae0c2702e926a952f28ce7bb1847c9f40f39fc"
  },
  "kernelspec": {
   "display_name": "Python 3.8.12 ('engineering')",
   "language": "python",
   "name": "python3"
  },
  "language_info": {
   "codemirror_mode": {
    "name": "ipython",
    "version": 3
   },
   "file_extension": ".py",
   "mimetype": "text/x-python",
   "name": "python",
   "nbconvert_exporter": "python",
   "pygments_lexer": "ipython3",
   "version": "3.8.12"
  },
  "orig_nbformat": 4
 },
 "nbformat": 4,
 "nbformat_minor": 2
}
